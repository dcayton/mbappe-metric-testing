{
 "cells": [
  {
   "cell_type": "markdown",
   "id": "733984d4-1e50-4747-8d75-848ff0eef7d1",
   "metadata": {},
   "source": [
    "# Retrodiction Testing\n",
    "\n",
    "For more information about the testing process check out the write-up here! https://www.gamemodelsfootball.com/articles/gen2\n",
    "\n",
    "`soccerdata` is necessary to get the league data for testing. If the package isn't installed, run `pip install soccerdata`."
   ]
  },
  {
   "cell_type": "code",
   "execution_count": 1,
   "id": "6a9accde-85f6-4162-910b-025e4bc58a66",
   "metadata": {},
   "outputs": [
    {
     "data": {
      "text/html": [
       "<pre style=\"white-space:pre;overflow-x:auto;line-height:normal;font-family:Menlo,'DejaVu Sans Mono',consolas,'Courier New',monospace\"><span style=\"color: #7fbfbf; text-decoration-color: #7fbfbf\">[09/21/24 11:30:13] </span><span style=\"color: #000080; text-decoration-color: #000080\">INFO    </span> Custom team name replacements loaded from                                <a href=\"file:///Users/donaldcayton/anaconda3/lib/python3.11/site-packages/soccerdata/_config.py\" target=\"_blank\"><span style=\"color: #7f7f7f; text-decoration-color: #7f7f7f\">_config.py</span></a><span style=\"color: #7f7f7f; text-decoration-color: #7f7f7f\">:</span><a href=\"file:///Users/donaldcayton/anaconda3/lib/python3.11/site-packages/soccerdata/_config.py#85\" target=\"_blank\"><span style=\"color: #7f7f7f; text-decoration-color: #7f7f7f\">85</span></a>\n",
       "<span style=\"color: #7fbfbf; text-decoration-color: #7fbfbf\">                    </span>         <span style=\"color: #800080; text-decoration-color: #800080\">/Users/donaldcayton/soccerdata/config/</span><span style=\"color: #ff00ff; text-decoration-color: #ff00ff\">teamname_replacements.json.</span>        <span style=\"color: #7f7f7f; text-decoration-color: #7f7f7f\">             </span>\n",
       "</pre>\n"
      ],
      "text/plain": [
       "\u001b[2;36m[09/21/24 11:30:13]\u001b[0m\u001b[2;36m \u001b[0m\u001b[34mINFO    \u001b[0m Custom team name replacements loaded from                                \u001b]8;id=28930;file:///Users/donaldcayton/anaconda3/lib/python3.11/site-packages/soccerdata/_config.py\u001b\\\u001b[2m_config.py\u001b[0m\u001b]8;;\u001b\\\u001b[2m:\u001b[0m\u001b]8;id=513360;file:///Users/donaldcayton/anaconda3/lib/python3.11/site-packages/soccerdata/_config.py#85\u001b\\\u001b[2m85\u001b[0m\u001b]8;;\u001b\\\n",
       "\u001b[2;36m                    \u001b[0m         \u001b[35m/Users/donaldcayton/soccerdata/config/\u001b[0m\u001b[95mteamname_replacements.json.\u001b[0m        \u001b[2m             \u001b[0m\n"
      ]
     },
     "metadata": {},
     "output_type": "display_data"
    },
    {
     "data": {
      "text/html": [
       "<pre style=\"white-space:pre;overflow-x:auto;line-height:normal;font-family:Menlo,'DejaVu Sans Mono',consolas,'Courier New',monospace\"><span style=\"color: #7fbfbf; text-decoration-color: #7fbfbf\">                    </span><span style=\"color: #000080; text-decoration-color: #000080\">INFO    </span> Custom league dict loaded from                                          <a href=\"file:///Users/donaldcayton/anaconda3/lib/python3.11/site-packages/soccerdata/_config.py\" target=\"_blank\"><span style=\"color: #7f7f7f; text-decoration-color: #7f7f7f\">_config.py</span></a><span style=\"color: #7f7f7f; text-decoration-color: #7f7f7f\">:</span><a href=\"file:///Users/donaldcayton/anaconda3/lib/python3.11/site-packages/soccerdata/_config.py#194\" target=\"_blank\"><span style=\"color: #7f7f7f; text-decoration-color: #7f7f7f\">194</span></a>\n",
       "<span style=\"color: #7fbfbf; text-decoration-color: #7fbfbf\">                    </span>         <span style=\"color: #800080; text-decoration-color: #800080\">/Users/donaldcayton/soccerdata/config/</span><span style=\"color: #ff00ff; text-decoration-color: #ff00ff\">league_dict.json.</span>                 <span style=\"color: #7f7f7f; text-decoration-color: #7f7f7f\">              </span>\n",
       "</pre>\n"
      ],
      "text/plain": [
       "\u001b[2;36m                   \u001b[0m\u001b[2;36m \u001b[0m\u001b[34mINFO    \u001b[0m Custom league dict loaded from                                          \u001b]8;id=376356;file:///Users/donaldcayton/anaconda3/lib/python3.11/site-packages/soccerdata/_config.py\u001b\\\u001b[2m_config.py\u001b[0m\u001b]8;;\u001b\\\u001b[2m:\u001b[0m\u001b]8;id=114843;file:///Users/donaldcayton/anaconda3/lib/python3.11/site-packages/soccerdata/_config.py#194\u001b\\\u001b[2m194\u001b[0m\u001b]8;;\u001b\\\n",
       "\u001b[2;36m                    \u001b[0m         \u001b[35m/Users/donaldcayton/soccerdata/config/\u001b[0m\u001b[95mleague_dict.json.\u001b[0m                 \u001b[2m              \u001b[0m\n"
      ]
     },
     "metadata": {},
     "output_type": "display_data"
    }
   ],
   "source": [
    "import pandas as pd\n",
    "import numpy as np\n",
    "\n",
    "import soccerdata as sd\n",
    "import statsmodels.api as sm\n",
    "\n",
    "from sklearn.model_selection import KFold\n",
    "from sklearn.metrics import mean_squared_error\n",
    "\n",
    "seasons = ['17-18', '18-19', '19-20', '20-21', '21-22', '22-23']\n",
    "\n",
    "team_replace = {\n",
    "     \"WBA\": \"West Brom\", \n",
    "     \"FC Koln\": \"Köln\", \n",
    "     \"Stoke\": \"Stoke City\",                 \n",
    "     \"Atletico\": \"Atletico Madrid\", \n",
    "     \"Real Betis\": \"Betis\", \n",
    "     \"Bayern\": \"Bayern Munich\",                                        \n",
    "     \"Deportivo\": \"La Coruña\", \n",
    "     \"Mainz\": \"Mainz 05\", \n",
    "     \"SPAL 2013\": \"SPAL\",\n",
    "     \"PSG\": \"Paris S-G\",\n",
    "     \"Swansea\": \"Swansea City\",\n",
    "     \"Hertha Berlin\": \"Hertha BSC\",\n",
    "     \"Leicester\": \"Leicester City\", \n",
    "     \"Man Utd\": \"Manchester Utd\", \n",
    "     \"Deportivo Alaves\": \"Alavés\", \n",
    "     \"Verona\": \"Chievo\", \n",
    "     \"Borussia M.Gladbach\": \"M'Gladbach\", \n",
    "     \"Man City\": \"Manchester City\",\n",
    "     \"Borussia Dortmund\": \"Dortmund\", \n",
    "     \"Eintracht Frankfurt\": \"Eint Frankfurt\",\n",
    "     \"Schalke\": \"Schalke 04\", \n",
    "     \"Hamburg\": \"Hamburger SV\", \n",
    "     \"Newcastle\": \"Newcastle Utd\", \n",
    "     \"RBL\": \"RB Leipzig\",\n",
    "     \"Malaga\": \"Málaga\",\n",
    "     \"Fortuna Duesselford\": \"Dusseldorf\",\n",
    "     \"Parma Calcio 1913\": \"Parma\",\n",
    "     \"Cardiff\": \"Cardiff City\",\n",
    "     \"Real Valladolid\": \"Valladolid\",\n",
    "     \"Nimes\": \"Nîmes\",\n",
    "     \"Nuernberg\": \"Nürnberg\",\n",
    "     \"SD Huesca\": \"Huesca\", \n",
    "     \"Sheff Utd\": \"Sheffield Utd\",\n",
    "     \"Norwich\": \"Norwich City\",\n",
    "     \"Paderborn\": \"Paderborn 07\",\n",
    "     \"Cadiz\": \"Cádiz\",\n",
    "     \"Leeds\": \"Leeds United\",\n",
    "     \"Arminia Bielefeld\": \"Arminia\",\n",
    "     \"Greuther Feurth\": \"Greuther Fürth\"\n",
    "}"
   ]
  },
  {
   "cell_type": "markdown",
   "id": "01f1c55e-c961-493d-88cb-d097a9b86efd",
   "metadata": {},
   "source": [
    "## FIFA Ratings"
   ]
  },
  {
   "cell_type": "code",
   "execution_count": 2,
   "id": "de3d55e3-ab4f-487f-8669-91cb052ff1ae",
   "metadata": {},
   "outputs": [
    {
     "data": {
      "text/html": [
       "<pre style=\"white-space:pre;overflow-x:auto;line-height:normal;font-family:Menlo,'DejaVu Sans Mono',consolas,'Courier New',monospace\"><span style=\"color: #7fbfbf; text-decoration-color: #7fbfbf\">[09/21/24 11:30:20] </span><span style=\"color: #000080; text-decoration-color: #000080\">INFO    </span> Saving cached data to <span style=\"color: #800080; text-decoration-color: #800080\">/Users/donaldcayton/soccerdata/data/</span><span style=\"color: #ff00ff; text-decoration-color: #ff00ff\">FBref</span>         <a href=\"file:///Users/donaldcayton/anaconda3/lib/python3.11/site-packages/soccerdata/_common.py\" target=\"_blank\"><span style=\"color: #7f7f7f; text-decoration-color: #7f7f7f\">_common.py</span></a><span style=\"color: #7f7f7f; text-decoration-color: #7f7f7f\">:</span><a href=\"file:///Users/donaldcayton/anaconda3/lib/python3.11/site-packages/soccerdata/_common.py#263\" target=\"_blank\"><span style=\"color: #7f7f7f; text-decoration-color: #7f7f7f\">263</span></a>\n",
       "</pre>\n"
      ],
      "text/plain": [
       "\u001b[2;36m[09/21/24 11:30:20]\u001b[0m\u001b[2;36m \u001b[0m\u001b[34mINFO    \u001b[0m Saving cached data to \u001b[35m/Users/donaldcayton/soccerdata/data/\u001b[0m\u001b[95mFBref\u001b[0m         \u001b]8;id=455277;file:///Users/donaldcayton/anaconda3/lib/python3.11/site-packages/soccerdata/_common.py\u001b\\\u001b[2m_common.py\u001b[0m\u001b]8;;\u001b\\\u001b[2m:\u001b[0m\u001b]8;id=306609;file:///Users/donaldcayton/anaconda3/lib/python3.11/site-packages/soccerdata/_common.py#263\u001b\\\u001b[2m263\u001b[0m\u001b]8;;\u001b\\\n"
      ]
     },
     "metadata": {},
     "output_type": "display_data"
    },
    {
     "data": {
      "text/html": [
       "<pre style=\"white-space:pre;overflow-x:auto;line-height:normal;font-family:Menlo,'DejaVu Sans Mono',consolas,'Courier New',monospace\"><span style=\"color: #7fbfbf; text-decoration-color: #7fbfbf\">[09/21/24 11:30:27] </span><span style=\"color: #000080; text-decoration-color: #000080\">INFO    </span> Saving cached data to <span style=\"color: #800080; text-decoration-color: #800080\">/Users/donaldcayton/soccerdata/data/</span><span style=\"color: #ff00ff; text-decoration-color: #ff00ff\">FBref</span>         <a href=\"file:///Users/donaldcayton/anaconda3/lib/python3.11/site-packages/soccerdata/_common.py\" target=\"_blank\"><span style=\"color: #7f7f7f; text-decoration-color: #7f7f7f\">_common.py</span></a><span style=\"color: #7f7f7f; text-decoration-color: #7f7f7f\">:</span><a href=\"file:///Users/donaldcayton/anaconda3/lib/python3.11/site-packages/soccerdata/_common.py#263\" target=\"_blank\"><span style=\"color: #7f7f7f; text-decoration-color: #7f7f7f\">263</span></a>\n",
       "</pre>\n"
      ],
      "text/plain": [
       "\u001b[2;36m[09/21/24 11:30:27]\u001b[0m\u001b[2;36m \u001b[0m\u001b[34mINFO    \u001b[0m Saving cached data to \u001b[35m/Users/donaldcayton/soccerdata/data/\u001b[0m\u001b[95mFBref\u001b[0m         \u001b]8;id=541824;file:///Users/donaldcayton/anaconda3/lib/python3.11/site-packages/soccerdata/_common.py\u001b\\\u001b[2m_common.py\u001b[0m\u001b]8;;\u001b\\\u001b[2m:\u001b[0m\u001b]8;id=796538;file:///Users/donaldcayton/anaconda3/lib/python3.11/site-packages/soccerdata/_common.py#263\u001b\\\u001b[2m263\u001b[0m\u001b]8;;\u001b\\\n"
      ]
     },
     "metadata": {},
     "output_type": "display_data"
    },
    {
     "data": {
      "text/html": [
       "<pre style=\"white-space:pre;overflow-x:auto;line-height:normal;font-family:Menlo,'DejaVu Sans Mono',consolas,'Courier New',monospace\"><span style=\"color: #7fbfbf; text-decoration-color: #7fbfbf\">[09/21/24 11:30:35] </span><span style=\"color: #000080; text-decoration-color: #000080\">INFO    </span> Saving cached data to <span style=\"color: #800080; text-decoration-color: #800080\">/Users/donaldcayton/soccerdata/data/</span><span style=\"color: #ff00ff; text-decoration-color: #ff00ff\">FBref</span>         <a href=\"file:///Users/donaldcayton/anaconda3/lib/python3.11/site-packages/soccerdata/_common.py\" target=\"_blank\"><span style=\"color: #7f7f7f; text-decoration-color: #7f7f7f\">_common.py</span></a><span style=\"color: #7f7f7f; text-decoration-color: #7f7f7f\">:</span><a href=\"file:///Users/donaldcayton/anaconda3/lib/python3.11/site-packages/soccerdata/_common.py#263\" target=\"_blank\"><span style=\"color: #7f7f7f; text-decoration-color: #7f7f7f\">263</span></a>\n",
       "</pre>\n"
      ],
      "text/plain": [
       "\u001b[2;36m[09/21/24 11:30:35]\u001b[0m\u001b[2;36m \u001b[0m\u001b[34mINFO    \u001b[0m Saving cached data to \u001b[35m/Users/donaldcayton/soccerdata/data/\u001b[0m\u001b[95mFBref\u001b[0m         \u001b]8;id=472741;file:///Users/donaldcayton/anaconda3/lib/python3.11/site-packages/soccerdata/_common.py\u001b\\\u001b[2m_common.py\u001b[0m\u001b]8;;\u001b\\\u001b[2m:\u001b[0m\u001b]8;id=817649;file:///Users/donaldcayton/anaconda3/lib/python3.11/site-packages/soccerdata/_common.py#263\u001b\\\u001b[2m263\u001b[0m\u001b]8;;\u001b\\\n"
      ]
     },
     "metadata": {},
     "output_type": "display_data"
    },
    {
     "data": {
      "text/html": [
       "<pre style=\"white-space:pre;overflow-x:auto;line-height:normal;font-family:Menlo,'DejaVu Sans Mono',consolas,'Courier New',monospace\"><span style=\"color: #7fbfbf; text-decoration-color: #7fbfbf\">[09/21/24 11:30:43] </span><span style=\"color: #000080; text-decoration-color: #000080\">INFO    </span> Saving cached data to <span style=\"color: #800080; text-decoration-color: #800080\">/Users/donaldcayton/soccerdata/data/</span><span style=\"color: #ff00ff; text-decoration-color: #ff00ff\">FBref</span>         <a href=\"file:///Users/donaldcayton/anaconda3/lib/python3.11/site-packages/soccerdata/_common.py\" target=\"_blank\"><span style=\"color: #7f7f7f; text-decoration-color: #7f7f7f\">_common.py</span></a><span style=\"color: #7f7f7f; text-decoration-color: #7f7f7f\">:</span><a href=\"file:///Users/donaldcayton/anaconda3/lib/python3.11/site-packages/soccerdata/_common.py#263\" target=\"_blank\"><span style=\"color: #7f7f7f; text-decoration-color: #7f7f7f\">263</span></a>\n",
       "</pre>\n"
      ],
      "text/plain": [
       "\u001b[2;36m[09/21/24 11:30:43]\u001b[0m\u001b[2;36m \u001b[0m\u001b[34mINFO    \u001b[0m Saving cached data to \u001b[35m/Users/donaldcayton/soccerdata/data/\u001b[0m\u001b[95mFBref\u001b[0m         \u001b]8;id=25305;file:///Users/donaldcayton/anaconda3/lib/python3.11/site-packages/soccerdata/_common.py\u001b\\\u001b[2m_common.py\u001b[0m\u001b]8;;\u001b\\\u001b[2m:\u001b[0m\u001b]8;id=912392;file:///Users/donaldcayton/anaconda3/lib/python3.11/site-packages/soccerdata/_common.py#263\u001b\\\u001b[2m263\u001b[0m\u001b]8;;\u001b\\\n"
      ]
     },
     "metadata": {},
     "output_type": "display_data"
    },
    {
     "data": {
      "text/html": [
       "<pre style=\"white-space:pre;overflow-x:auto;line-height:normal;font-family:Menlo,'DejaVu Sans Mono',consolas,'Courier New',monospace\"><span style=\"color: #7fbfbf; text-decoration-color: #7fbfbf\">[09/21/24 11:30:52] </span><span style=\"color: #000080; text-decoration-color: #000080\">INFO    </span> Saving cached data to <span style=\"color: #800080; text-decoration-color: #800080\">/Users/donaldcayton/soccerdata/data/</span><span style=\"color: #ff00ff; text-decoration-color: #ff00ff\">FBref</span>         <a href=\"file:///Users/donaldcayton/anaconda3/lib/python3.11/site-packages/soccerdata/_common.py\" target=\"_blank\"><span style=\"color: #7f7f7f; text-decoration-color: #7f7f7f\">_common.py</span></a><span style=\"color: #7f7f7f; text-decoration-color: #7f7f7f\">:</span><a href=\"file:///Users/donaldcayton/anaconda3/lib/python3.11/site-packages/soccerdata/_common.py#263\" target=\"_blank\"><span style=\"color: #7f7f7f; text-decoration-color: #7f7f7f\">263</span></a>\n",
       "</pre>\n"
      ],
      "text/plain": [
       "\u001b[2;36m[09/21/24 11:30:52]\u001b[0m\u001b[2;36m \u001b[0m\u001b[34mINFO    \u001b[0m Saving cached data to \u001b[35m/Users/donaldcayton/soccerdata/data/\u001b[0m\u001b[95mFBref\u001b[0m         \u001b]8;id=885908;file:///Users/donaldcayton/anaconda3/lib/python3.11/site-packages/soccerdata/_common.py\u001b\\\u001b[2m_common.py\u001b[0m\u001b]8;;\u001b\\\u001b[2m:\u001b[0m\u001b]8;id=624588;file:///Users/donaldcayton/anaconda3/lib/python3.11/site-packages/soccerdata/_common.py#263\u001b\\\u001b[2m263\u001b[0m\u001b]8;;\u001b\\\n"
      ]
     },
     "metadata": {},
     "output_type": "display_data"
    },
    {
     "name": "stdout",
     "output_type": "stream",
     "text": [
      "Average RMSE across 5-fold cross-validation: 0.6175090681501851\n"
     ]
    }
   ],
   "source": [
    "from rapidfuzz import process, fuzz\n",
    "pd.options.mode.chained_assignment = None\n",
    "\n",
    "fifa_ratings = pd.read_csv('data/FifaRatings.csv', low_memory = False)\n",
    "\n",
    "next_season_outcomes = pd.DataFrame()\n",
    "\n",
    "for season in seasons[1:]:\n",
    "    fbref = sd.FBref(leagues = 'Big 5 European Leagues Combined', seasons = season)\n",
    "    season_stats = fbref.read_team_season_stats(\"standard\").reset_index()\n",
    "    opp_stats = fbref.read_team_season_stats(\"standard\", opponent_stats = True).reset_index()\n",
    "\n",
    "    season_outcome = pd.DataFrame({\n",
    "                    'team': season_stats.team,\n",
    "                    'league': season_stats.league,\n",
    "                    '90s': season_stats['Playing Time']['90s'],\n",
    "                    'G-PK': season_stats['Performance']['G-PK'],\n",
    "                    'G-PK_against': opp_stats['Performance']['G-PK'],\n",
    "                    'NP-GD': season_stats['Performance']['G-PK'] - opp_stats['Performance']['G-PK']\n",
    "                })\n",
    "\n",
    "    season_outcome = season_outcome.sort_values('team').reset_index(drop = True)\n",
    "\n",
    "    player_stats = fbref.read_player_season_stats(\"standard\").reset_index()\n",
    "\n",
    "    player_stats.columns = [''.join(c) for c in player_stats.columns]\n",
    "\n",
    "    # join on birth year, fuzzy-matched name, league_name, nationality, FIFA 19 ratings for 1819 season\n",
    "    season_fifa = fifa_ratings[fifa_ratings['fifa_version'] == int(season.split('-')[1])]\n",
    "\n",
    "    season_fifa.loc[:, 'born'] = season_fifa.loc[:, 'dob'].str.split('-').str[0]\n",
    "    season_fifa.loc[:, 'born'] = season_fifa.born.astype(int)\n",
    "\n",
    "    player_stats.loc[:, 'league_name'] =  player_stats.league.str.split('-').str[1]\n",
    "\n",
    "    def initials_score(name1, name2):\n",
    "        name1_initials = ''.join([part[0] for part in name1.split()])\n",
    "        name2_initials = ''.join([part[0] for part in name2.split()])\n",
    "        return fuzz.ratio(name1_initials, name2_initials)\n",
    "\n",
    "    def combined_score(name1, name2):\n",
    "        initials_similarity = initials_score(name1, name2)\n",
    "        fuzzy_similarity = fuzz.ratio(name1, name2)\n",
    "        # Combine scores with weights\n",
    "        return 0.5 * fuzzy_similarity + 0.5 * initials_similarity\n",
    "\n",
    "    def combined_score_wrapper(name1, name2, **kwargs):\n",
    "        return combined_score(name1, name2)\n",
    "\n",
    "    def get_candidates(row, df2, other_columns):\n",
    "        return df2[\n",
    "            (df2[other_columns[0]] == row[other_columns[0]])\n",
    "        ]['short_name'].tolist()\n",
    "\n",
    "    def find_best_match(row, candidates, scorer=combined_score_wrapper, cutoff=80):\n",
    "        if candidates:\n",
    "            match = process.extractOne(row, candidates, scorer=scorer, score_cutoff=cutoff)\n",
    "            if match:\n",
    "                return match[0]\n",
    "        return None\n",
    "\n",
    "    player_stats['Candidates'] = player_stats.apply(lambda row: get_candidates(row, season_fifa, ['born']), axis=1)\n",
    "    player_stats['Best_Match'] = player_stats.apply(lambda row: find_best_match(row['player'], row['Candidates']), axis=1)\n",
    "\n",
    "    pd.set_option('display.max_columns', 200)\n",
    "    player_stats = player_stats.merge(season_fifa, how = 'left', left_on = ['Best_Match', 'born'], right_on = ['short_name', 'born'])\n",
    "\n",
    "    player_stats['overall'] = player_stats['overall'].fillna(player_stats['overall'].mean())\n",
    "\n",
    "    # get minute weighted sum of fifa ratings\n",
    "    player_stats['total_added'] = player_stats['overall'] * player_stats['Playing Time90s']\n",
    "    \n",
    "    # next season\n",
    "    season_outcome['rating_total'] = player_stats.groupby('team', as_index = False).sum()['total_added']\n",
    "    season_outcome['season'] = season\n",
    "    \n",
    "    next_season_outcomes = pd.concat([season_outcome, next_season_outcomes], axis = 0)\n",
    "\n",
    "# simple regression on goal differential for this season and next season (but ensure we know how to do it first)\n",
    "next_season_outcomes = pd.get_dummies(next_season_outcomes, columns=['league'], drop_first=True, dtype = float)\n",
    "\n",
    "X = np.asarray(next_season_outcomes[['rating_total'] + list(next_season_outcomes.columns[next_season_outcomes.columns.str.startswith('league_')])])\n",
    "y = np.asarray(next_season_outcomes['NP-GD'])\n",
    "\n",
    "X = sm.add_constant(X)\n",
    "X = X.astype(float)\n",
    "\n",
    "kf = KFold(n_splits=5, shuffle=True, random_state=42)\n",
    "rmse_values = []\n",
    "\n",
    "for train_index, test_index in kf.split(X):\n",
    "    X_train, X_test = X[train_index], X[test_index]\n",
    "    y_train, y_test = y[train_index], y[test_index]\n",
    "    \n",
    "    model = sm.OLS(y_train, X_train).fit()\n",
    "    y_pred = model.predict(X_test)\n",
    "    \n",
    "    residuals = (y_test - y_pred) / next_season_outcomes['90s'].iloc[test_index]\n",
    "    rmse = np.sqrt(np.mean(residuals**2))\n",
    "    rmse_values.append(rmse)\n",
    "\n",
    "fifa_rmse = np.mean(rmse_values)\n",
    "print(\"Average RMSE across 5-fold cross-validation:\", fifa_rmse)"
   ]
  },
  {
   "cell_type": "markdown",
   "id": "3470767f-93a2-41a7-91d8-a05c42dc2e83",
   "metadata": {},
   "source": [
    "--------\n",
    "## FotMob"
   ]
  },
  {
   "cell_type": "code",
   "execution_count": 3,
   "id": "5b08321a-3122-4de4-ab77-95ba849c1c46",
   "metadata": {},
   "outputs": [
    {
     "data": {
      "text/html": [
       "<pre style=\"white-space:pre;overflow-x:auto;line-height:normal;font-family:Menlo,'DejaVu Sans Mono',consolas,'Courier New',monospace\"><span style=\"color: #7fbfbf; text-decoration-color: #7fbfbf\">[09/21/24 11:31:03] </span><span style=\"color: #000080; text-decoration-color: #000080\">INFO    </span> Saving cached data to <span style=\"color: #800080; text-decoration-color: #800080\">/Users/donaldcayton/soccerdata/data/</span><span style=\"color: #ff00ff; text-decoration-color: #ff00ff\">FBref</span>         <a href=\"file:///Users/donaldcayton/anaconda3/lib/python3.11/site-packages/soccerdata/_common.py\" target=\"_blank\"><span style=\"color: #7f7f7f; text-decoration-color: #7f7f7f\">_common.py</span></a><span style=\"color: #7f7f7f; text-decoration-color: #7f7f7f\">:</span><a href=\"file:///Users/donaldcayton/anaconda3/lib/python3.11/site-packages/soccerdata/_common.py#263\" target=\"_blank\"><span style=\"color: #7f7f7f; text-decoration-color: #7f7f7f\">263</span></a>\n",
       "</pre>\n"
      ],
      "text/plain": [
       "\u001b[2;36m[09/21/24 11:31:03]\u001b[0m\u001b[2;36m \u001b[0m\u001b[34mINFO    \u001b[0m Saving cached data to \u001b[35m/Users/donaldcayton/soccerdata/data/\u001b[0m\u001b[95mFBref\u001b[0m         \u001b]8;id=753292;file:///Users/donaldcayton/anaconda3/lib/python3.11/site-packages/soccerdata/_common.py\u001b\\\u001b[2m_common.py\u001b[0m\u001b]8;;\u001b\\\u001b[2m:\u001b[0m\u001b]8;id=251351;file:///Users/donaldcayton/anaconda3/lib/python3.11/site-packages/soccerdata/_common.py#263\u001b\\\u001b[2m263\u001b[0m\u001b]8;;\u001b\\\n"
      ]
     },
     "metadata": {},
     "output_type": "display_data"
    },
    {
     "data": {
      "text/html": [
       "<pre style=\"white-space:pre;overflow-x:auto;line-height:normal;font-family:Menlo,'DejaVu Sans Mono',consolas,'Courier New',monospace\"><span style=\"color: #7fbfbf; text-decoration-color: #7fbfbf\">[09/21/24 11:31:05] </span><span style=\"color: #000080; text-decoration-color: #000080\">INFO    </span> Saving cached data to <span style=\"color: #800080; text-decoration-color: #800080\">/Users/donaldcayton/soccerdata/data/</span><span style=\"color: #ff00ff; text-decoration-color: #ff00ff\">FBref</span>         <a href=\"file:///Users/donaldcayton/anaconda3/lib/python3.11/site-packages/soccerdata/_common.py\" target=\"_blank\"><span style=\"color: #7f7f7f; text-decoration-color: #7f7f7f\">_common.py</span></a><span style=\"color: #7f7f7f; text-decoration-color: #7f7f7f\">:</span><a href=\"file:///Users/donaldcayton/anaconda3/lib/python3.11/site-packages/soccerdata/_common.py#263\" target=\"_blank\"><span style=\"color: #7f7f7f; text-decoration-color: #7f7f7f\">263</span></a>\n",
       "</pre>\n"
      ],
      "text/plain": [
       "\u001b[2;36m[09/21/24 11:31:05]\u001b[0m\u001b[2;36m \u001b[0m\u001b[34mINFO    \u001b[0m Saving cached data to \u001b[35m/Users/donaldcayton/soccerdata/data/\u001b[0m\u001b[95mFBref\u001b[0m         \u001b]8;id=137666;file:///Users/donaldcayton/anaconda3/lib/python3.11/site-packages/soccerdata/_common.py\u001b\\\u001b[2m_common.py\u001b[0m\u001b]8;;\u001b\\\u001b[2m:\u001b[0m\u001b]8;id=504766;file:///Users/donaldcayton/anaconda3/lib/python3.11/site-packages/soccerdata/_common.py#263\u001b\\\u001b[2m263\u001b[0m\u001b]8;;\u001b\\\n"
      ]
     },
     "metadata": {},
     "output_type": "display_data"
    },
    {
     "data": {
      "text/html": [
       "<pre style=\"white-space:pre;overflow-x:auto;line-height:normal;font-family:Menlo,'DejaVu Sans Mono',consolas,'Courier New',monospace\"><span style=\"color: #7fbfbf; text-decoration-color: #7fbfbf\">[09/21/24 11:31:06] </span><span style=\"color: #000080; text-decoration-color: #000080\">INFO    </span> Saving cached data to <span style=\"color: #800080; text-decoration-color: #800080\">/Users/donaldcayton/soccerdata/data/</span><span style=\"color: #ff00ff; text-decoration-color: #ff00ff\">FBref</span>         <a href=\"file:///Users/donaldcayton/anaconda3/lib/python3.11/site-packages/soccerdata/_common.py\" target=\"_blank\"><span style=\"color: #7f7f7f; text-decoration-color: #7f7f7f\">_common.py</span></a><span style=\"color: #7f7f7f; text-decoration-color: #7f7f7f\">:</span><a href=\"file:///Users/donaldcayton/anaconda3/lib/python3.11/site-packages/soccerdata/_common.py#263\" target=\"_blank\"><span style=\"color: #7f7f7f; text-decoration-color: #7f7f7f\">263</span></a>\n",
       "</pre>\n"
      ],
      "text/plain": [
       "\u001b[2;36m[09/21/24 11:31:06]\u001b[0m\u001b[2;36m \u001b[0m\u001b[34mINFO    \u001b[0m Saving cached data to \u001b[35m/Users/donaldcayton/soccerdata/data/\u001b[0m\u001b[95mFBref\u001b[0m         \u001b]8;id=139241;file:///Users/donaldcayton/anaconda3/lib/python3.11/site-packages/soccerdata/_common.py\u001b\\\u001b[2m_common.py\u001b[0m\u001b]8;;\u001b\\\u001b[2m:\u001b[0m\u001b]8;id=956430;file:///Users/donaldcayton/anaconda3/lib/python3.11/site-packages/soccerdata/_common.py#263\u001b\\\u001b[2m263\u001b[0m\u001b]8;;\u001b\\\n"
      ]
     },
     "metadata": {},
     "output_type": "display_data"
    },
    {
     "data": {
      "text/html": [
       "<pre style=\"white-space:pre;overflow-x:auto;line-height:normal;font-family:Menlo,'DejaVu Sans Mono',consolas,'Courier New',monospace\"><span style=\"color: #7fbfbf; text-decoration-color: #7fbfbf\">[09/21/24 11:31:07] </span><span style=\"color: #000080; text-decoration-color: #000080\">INFO    </span> Saving cached data to <span style=\"color: #800080; text-decoration-color: #800080\">/Users/donaldcayton/soccerdata/data/</span><span style=\"color: #ff00ff; text-decoration-color: #ff00ff\">FBref</span>         <a href=\"file:///Users/donaldcayton/anaconda3/lib/python3.11/site-packages/soccerdata/_common.py\" target=\"_blank\"><span style=\"color: #7f7f7f; text-decoration-color: #7f7f7f\">_common.py</span></a><span style=\"color: #7f7f7f; text-decoration-color: #7f7f7f\">:</span><a href=\"file:///Users/donaldcayton/anaconda3/lib/python3.11/site-packages/soccerdata/_common.py#263\" target=\"_blank\"><span style=\"color: #7f7f7f; text-decoration-color: #7f7f7f\">263</span></a>\n",
       "</pre>\n"
      ],
      "text/plain": [
       "\u001b[2;36m[09/21/24 11:31:07]\u001b[0m\u001b[2;36m \u001b[0m\u001b[34mINFO    \u001b[0m Saving cached data to \u001b[35m/Users/donaldcayton/soccerdata/data/\u001b[0m\u001b[95mFBref\u001b[0m         \u001b]8;id=487120;file:///Users/donaldcayton/anaconda3/lib/python3.11/site-packages/soccerdata/_common.py\u001b\\\u001b[2m_common.py\u001b[0m\u001b]8;;\u001b\\\u001b[2m:\u001b[0m\u001b]8;id=715895;file:///Users/donaldcayton/anaconda3/lib/python3.11/site-packages/soccerdata/_common.py#263\u001b\\\u001b[2m263\u001b[0m\u001b]8;;\u001b\\\n"
      ]
     },
     "metadata": {},
     "output_type": "display_data"
    },
    {
     "data": {
      "text/html": [
       "<pre style=\"white-space:pre;overflow-x:auto;line-height:normal;font-family:Menlo,'DejaVu Sans Mono',consolas,'Courier New',monospace\"><span style=\"color: #7fbfbf; text-decoration-color: #7fbfbf\">[09/21/24 11:31:08] </span><span style=\"color: #000080; text-decoration-color: #000080\">INFO    </span> Saving cached data to <span style=\"color: #800080; text-decoration-color: #800080\">/Users/donaldcayton/soccerdata/data/</span><span style=\"color: #ff00ff; text-decoration-color: #ff00ff\">FBref</span>         <a href=\"file:///Users/donaldcayton/anaconda3/lib/python3.11/site-packages/soccerdata/_common.py\" target=\"_blank\"><span style=\"color: #7f7f7f; text-decoration-color: #7f7f7f\">_common.py</span></a><span style=\"color: #7f7f7f; text-decoration-color: #7f7f7f\">:</span><a href=\"file:///Users/donaldcayton/anaconda3/lib/python3.11/site-packages/soccerdata/_common.py#263\" target=\"_blank\"><span style=\"color: #7f7f7f; text-decoration-color: #7f7f7f\">263</span></a>\n",
       "</pre>\n"
      ],
      "text/plain": [
       "\u001b[2;36m[09/21/24 11:31:08]\u001b[0m\u001b[2;36m \u001b[0m\u001b[34mINFO    \u001b[0m Saving cached data to \u001b[35m/Users/donaldcayton/soccerdata/data/\u001b[0m\u001b[95mFBref\u001b[0m         \u001b]8;id=739504;file:///Users/donaldcayton/anaconda3/lib/python3.11/site-packages/soccerdata/_common.py\u001b\\\u001b[2m_common.py\u001b[0m\u001b]8;;\u001b\\\u001b[2m:\u001b[0m\u001b]8;id=774226;file:///Users/donaldcayton/anaconda3/lib/python3.11/site-packages/soccerdata/_common.py#263\u001b\\\u001b[2m263\u001b[0m\u001b]8;;\u001b\\\n"
      ]
     },
     "metadata": {},
     "output_type": "display_data"
    },
    {
     "name": "stdout",
     "output_type": "stream",
     "text": [
      "Average RMSE across 5-fold cross-validation: 0.6400152668275302\n"
     ]
    }
   ],
   "source": [
    "leagues = ['bundesliga', 'la_liga', 'ligue_un', 'premier_league', 'serie_a']\n",
    "\n",
    "fotmob_ratings = pd.DataFrame()\n",
    "for league in leagues:\n",
    "    ratings = pd.read_csv(f\"data/fotmob/{league}_fotmob.csv\")\n",
    "    league_dict = {\"bundesliga\": \"Bundesliga\",\n",
    "                   \"serie_a\": \"Serie A\",\n",
    "                   \"premier_league\": \"Premier League\",\n",
    "                   \"ligue_un\": \"Ligue 1\",\n",
    "                   \"la_liga\": \"La Liga\"\n",
    "                  }\n",
    "    \n",
    "    ratings['league_name'] = league.replace(league, league_dict[league])\n",
    "    ratings['Season'] = ratings.Season.str.replace('-', '')\n",
    "    \n",
    "    ratings = ratings.rename({'Season': 'season', 'Player': 'player'}, axis = 1)\n",
    "    \n",
    "    fotmob_ratings = pd.concat([fotmob_ratings, ratings], axis = 0)\n",
    "\n",
    "next_season_outcomes = pd.DataFrame()\n",
    "\n",
    "fotmob_ratings.groupby(['player', 'league_name', 'season'], as_index=False).mean()\n",
    "\n",
    "for season in seasons[1:]:\n",
    "    fbref = sd.FBref(leagues='Big 5 European Leagues Combined', seasons=season)\n",
    "    season_stats = fbref.read_team_season_stats(\"standard\").reset_index()\n",
    "    opp_stats = fbref.read_team_season_stats(\"standard\", opponent_stats=True).reset_index()\n",
    "\n",
    "    season_outcome = pd.DataFrame({\n",
    "        'team': season_stats.team,\n",
    "        'league': season_stats.league,\n",
    "        '90s': season_stats['Playing Time']['90s'],\n",
    "        'G-PK': season_stats['Performance']['G-PK'],\n",
    "        'G-PK_against': opp_stats['Performance']['G-PK'],\n",
    "        'NP-GD': season_stats['Performance']['G-PK'] - opp_stats['Performance']['G-PK']\n",
    "    })\n",
    "\n",
    "    fotmob_next_season_ratings = fotmob_ratings.copy()\n",
    "    fotmob_next_season_ratings = fotmob_next_season_ratings[['player', 'season', 'Rating']].groupby(['player', 'season'], as_index=False).mean()\n",
    "    fotmob_next_season_ratings['season'] = (fotmob_next_season_ratings.season.astype(int) + 101).astype(str)\n",
    "\n",
    "    season_outcome = season_outcome.sort_values('team').reset_index(drop=True)\n",
    "    \n",
    "    player_stats = fbref.read_player_season_stats(\"standard\").reset_index()\n",
    "    player_stats['league_name'] = player_stats.league.str.split(\"-\").str[1]\n",
    "    player_stats.columns = [''.join(c) for c in player_stats.columns]\n",
    "\n",
    "    player_stats = player_stats.merge(fotmob_next_season_ratings, how='left', on=['player', 'season'])\n",
    "    player_stats['Rating'] = player_stats['Rating'].fillna(player_stats['Rating'].mean())\n",
    "\n",
    "    player_stats['total_added'] = player_stats['Rating'] * player_stats['Playing Time90s']\n",
    "\n",
    "    season_outcome['total_added'] = player_stats.groupby('team', as_index=False).sum()['total_added']\n",
    "    season_outcome['season'] = season\n",
    "\n",
    "    next_season_outcomes = pd.concat([season_outcome, next_season_outcomes], axis=0)\n",
    "\n",
    "\n",
    "X = np.asarray(next_season_outcomes[['total_added']])\n",
    "y = np.asarray(next_season_outcomes['NP-GD'])\n",
    "\n",
    "X = sm.add_constant(X)\n",
    "X = X.astype(float)\n",
    "\n",
    "kf = KFold(n_splits=5, shuffle=True, random_state=42)\n",
    "rmse_values = []\n",
    "\n",
    "for train_index, test_index in kf.split(X):\n",
    "    X_train, X_test = X[train_index], X[test_index]\n",
    "    y_train, y_test = y[train_index], y[test_index]\n",
    "    \n",
    "    model = sm.OLS(y_train, X_train).fit()\n",
    "    \n",
    "    y_pred = model.predict(X_test)\n",
    "    \n",
    "    residuals = (y_test - y_pred) / next_season_outcomes['90s'].iloc[test_index]\n",
    "    rmse = np.sqrt(np.mean(residuals**2))\n",
    "    rmse_values.append(rmse)\n",
    "\n",
    "fotmob_rmse = np.mean(rmse_values)\n",
    "print(\"Average RMSE across 5-fold cross-validation:\", fotmob_rmse)"
   ]
  },
  {
   "cell_type": "markdown",
   "id": "f8d63e4e-569a-4fad-9952-e00f328c09fd",
   "metadata": {},
   "source": [
    "--------\n",
    "## SofaScore"
   ]
  },
  {
   "cell_type": "code",
   "execution_count": 4,
   "id": "d40d6392-d227-4f9c-8980-8fc3210df25e",
   "metadata": {},
   "outputs": [
    {
     "data": {
      "text/html": [
       "<pre style=\"white-space:pre;overflow-x:auto;line-height:normal;font-family:Menlo,'DejaVu Sans Mono',consolas,'Courier New',monospace\"><span style=\"color: #7fbfbf; text-decoration-color: #7fbfbf\">[09/21/24 11:31:11] </span><span style=\"color: #000080; text-decoration-color: #000080\">INFO    </span> Saving cached data to <span style=\"color: #800080; text-decoration-color: #800080\">/Users/donaldcayton/soccerdata/data/</span><span style=\"color: #ff00ff; text-decoration-color: #ff00ff\">FBref</span>         <a href=\"file:///Users/donaldcayton/anaconda3/lib/python3.11/site-packages/soccerdata/_common.py\" target=\"_blank\"><span style=\"color: #7f7f7f; text-decoration-color: #7f7f7f\">_common.py</span></a><span style=\"color: #7f7f7f; text-decoration-color: #7f7f7f\">:</span><a href=\"file:///Users/donaldcayton/anaconda3/lib/python3.11/site-packages/soccerdata/_common.py#263\" target=\"_blank\"><span style=\"color: #7f7f7f; text-decoration-color: #7f7f7f\">263</span></a>\n",
       "</pre>\n"
      ],
      "text/plain": [
       "\u001b[2;36m[09/21/24 11:31:11]\u001b[0m\u001b[2;36m \u001b[0m\u001b[34mINFO    \u001b[0m Saving cached data to \u001b[35m/Users/donaldcayton/soccerdata/data/\u001b[0m\u001b[95mFBref\u001b[0m         \u001b]8;id=723947;file:///Users/donaldcayton/anaconda3/lib/python3.11/site-packages/soccerdata/_common.py\u001b\\\u001b[2m_common.py\u001b[0m\u001b]8;;\u001b\\\u001b[2m:\u001b[0m\u001b]8;id=325918;file:///Users/donaldcayton/anaconda3/lib/python3.11/site-packages/soccerdata/_common.py#263\u001b\\\u001b[2m263\u001b[0m\u001b]8;;\u001b\\\n"
      ]
     },
     "metadata": {},
     "output_type": "display_data"
    },
    {
     "data": {
      "text/html": [
       "<pre style=\"white-space:pre;overflow-x:auto;line-height:normal;font-family:Menlo,'DejaVu Sans Mono',consolas,'Courier New',monospace\"><span style=\"color: #7fbfbf; text-decoration-color: #7fbfbf\">[09/21/24 11:31:12] </span><span style=\"color: #000080; text-decoration-color: #000080\">INFO    </span> Saving cached data to <span style=\"color: #800080; text-decoration-color: #800080\">/Users/donaldcayton/soccerdata/data/</span><span style=\"color: #ff00ff; text-decoration-color: #ff00ff\">FBref</span>         <a href=\"file:///Users/donaldcayton/anaconda3/lib/python3.11/site-packages/soccerdata/_common.py\" target=\"_blank\"><span style=\"color: #7f7f7f; text-decoration-color: #7f7f7f\">_common.py</span></a><span style=\"color: #7f7f7f; text-decoration-color: #7f7f7f\">:</span><a href=\"file:///Users/donaldcayton/anaconda3/lib/python3.11/site-packages/soccerdata/_common.py#263\" target=\"_blank\"><span style=\"color: #7f7f7f; text-decoration-color: #7f7f7f\">263</span></a>\n",
       "</pre>\n"
      ],
      "text/plain": [
       "\u001b[2;36m[09/21/24 11:31:12]\u001b[0m\u001b[2;36m \u001b[0m\u001b[34mINFO    \u001b[0m Saving cached data to \u001b[35m/Users/donaldcayton/soccerdata/data/\u001b[0m\u001b[95mFBref\u001b[0m         \u001b]8;id=242570;file:///Users/donaldcayton/anaconda3/lib/python3.11/site-packages/soccerdata/_common.py\u001b\\\u001b[2m_common.py\u001b[0m\u001b]8;;\u001b\\\u001b[2m:\u001b[0m\u001b]8;id=204887;file:///Users/donaldcayton/anaconda3/lib/python3.11/site-packages/soccerdata/_common.py#263\u001b\\\u001b[2m263\u001b[0m\u001b]8;;\u001b\\\n"
      ]
     },
     "metadata": {},
     "output_type": "display_data"
    },
    {
     "data": {
      "text/html": [
       "<pre style=\"white-space:pre;overflow-x:auto;line-height:normal;font-family:Menlo,'DejaVu Sans Mono',consolas,'Courier New',monospace\"><span style=\"color: #7fbfbf; text-decoration-color: #7fbfbf\">[09/21/24 11:31:13] </span><span style=\"color: #000080; text-decoration-color: #000080\">INFO    </span> Saving cached data to <span style=\"color: #800080; text-decoration-color: #800080\">/Users/donaldcayton/soccerdata/data/</span><span style=\"color: #ff00ff; text-decoration-color: #ff00ff\">FBref</span>         <a href=\"file:///Users/donaldcayton/anaconda3/lib/python3.11/site-packages/soccerdata/_common.py\" target=\"_blank\"><span style=\"color: #7f7f7f; text-decoration-color: #7f7f7f\">_common.py</span></a><span style=\"color: #7f7f7f; text-decoration-color: #7f7f7f\">:</span><a href=\"file:///Users/donaldcayton/anaconda3/lib/python3.11/site-packages/soccerdata/_common.py#263\" target=\"_blank\"><span style=\"color: #7f7f7f; text-decoration-color: #7f7f7f\">263</span></a>\n",
       "</pre>\n"
      ],
      "text/plain": [
       "\u001b[2;36m[09/21/24 11:31:13]\u001b[0m\u001b[2;36m \u001b[0m\u001b[34mINFO    \u001b[0m Saving cached data to \u001b[35m/Users/donaldcayton/soccerdata/data/\u001b[0m\u001b[95mFBref\u001b[0m         \u001b]8;id=851919;file:///Users/donaldcayton/anaconda3/lib/python3.11/site-packages/soccerdata/_common.py\u001b\\\u001b[2m_common.py\u001b[0m\u001b]8;;\u001b\\\u001b[2m:\u001b[0m\u001b]8;id=289183;file:///Users/donaldcayton/anaconda3/lib/python3.11/site-packages/soccerdata/_common.py#263\u001b\\\u001b[2m263\u001b[0m\u001b]8;;\u001b\\\n"
      ]
     },
     "metadata": {},
     "output_type": "display_data"
    },
    {
     "data": {
      "text/html": [
       "<pre style=\"white-space:pre;overflow-x:auto;line-height:normal;font-family:Menlo,'DejaVu Sans Mono',consolas,'Courier New',monospace\"><span style=\"color: #7fbfbf; text-decoration-color: #7fbfbf\">[09/21/24 11:31:14] </span><span style=\"color: #000080; text-decoration-color: #000080\">INFO    </span> Saving cached data to <span style=\"color: #800080; text-decoration-color: #800080\">/Users/donaldcayton/soccerdata/data/</span><span style=\"color: #ff00ff; text-decoration-color: #ff00ff\">FBref</span>         <a href=\"file:///Users/donaldcayton/anaconda3/lib/python3.11/site-packages/soccerdata/_common.py\" target=\"_blank\"><span style=\"color: #7f7f7f; text-decoration-color: #7f7f7f\">_common.py</span></a><span style=\"color: #7f7f7f; text-decoration-color: #7f7f7f\">:</span><a href=\"file:///Users/donaldcayton/anaconda3/lib/python3.11/site-packages/soccerdata/_common.py#263\" target=\"_blank\"><span style=\"color: #7f7f7f; text-decoration-color: #7f7f7f\">263</span></a>\n",
       "</pre>\n"
      ],
      "text/plain": [
       "\u001b[2;36m[09/21/24 11:31:14]\u001b[0m\u001b[2;36m \u001b[0m\u001b[34mINFO    \u001b[0m Saving cached data to \u001b[35m/Users/donaldcayton/soccerdata/data/\u001b[0m\u001b[95mFBref\u001b[0m         \u001b]8;id=290455;file:///Users/donaldcayton/anaconda3/lib/python3.11/site-packages/soccerdata/_common.py\u001b\\\u001b[2m_common.py\u001b[0m\u001b]8;;\u001b\\\u001b[2m:\u001b[0m\u001b]8;id=157014;file:///Users/donaldcayton/anaconda3/lib/python3.11/site-packages/soccerdata/_common.py#263\u001b\\\u001b[2m263\u001b[0m\u001b]8;;\u001b\\\n"
      ]
     },
     "metadata": {},
     "output_type": "display_data"
    },
    {
     "data": {
      "text/html": [
       "<pre style=\"white-space:pre;overflow-x:auto;line-height:normal;font-family:Menlo,'DejaVu Sans Mono',consolas,'Courier New',monospace\"><span style=\"color: #7fbfbf; text-decoration-color: #7fbfbf\">[09/21/24 11:31:16] </span><span style=\"color: #000080; text-decoration-color: #000080\">INFO    </span> Saving cached data to <span style=\"color: #800080; text-decoration-color: #800080\">/Users/donaldcayton/soccerdata/data/</span><span style=\"color: #ff00ff; text-decoration-color: #ff00ff\">FBref</span>         <a href=\"file:///Users/donaldcayton/anaconda3/lib/python3.11/site-packages/soccerdata/_common.py\" target=\"_blank\"><span style=\"color: #7f7f7f; text-decoration-color: #7f7f7f\">_common.py</span></a><span style=\"color: #7f7f7f; text-decoration-color: #7f7f7f\">:</span><a href=\"file:///Users/donaldcayton/anaconda3/lib/python3.11/site-packages/soccerdata/_common.py#263\" target=\"_blank\"><span style=\"color: #7f7f7f; text-decoration-color: #7f7f7f\">263</span></a>\n",
       "</pre>\n"
      ],
      "text/plain": [
       "\u001b[2;36m[09/21/24 11:31:16]\u001b[0m\u001b[2;36m \u001b[0m\u001b[34mINFO    \u001b[0m Saving cached data to \u001b[35m/Users/donaldcayton/soccerdata/data/\u001b[0m\u001b[95mFBref\u001b[0m         \u001b]8;id=766923;file:///Users/donaldcayton/anaconda3/lib/python3.11/site-packages/soccerdata/_common.py\u001b\\\u001b[2m_common.py\u001b[0m\u001b]8;;\u001b\\\u001b[2m:\u001b[0m\u001b]8;id=769987;file:///Users/donaldcayton/anaconda3/lib/python3.11/site-packages/soccerdata/_common.py#263\u001b\\\u001b[2m263\u001b[0m\u001b]8;;\u001b\\\n"
      ]
     },
     "metadata": {},
     "output_type": "display_data"
    },
    {
     "name": "stdout",
     "output_type": "stream",
     "text": [
      "Average RMSE across 5-fold cross-validation: 0.6397153374484134\n"
     ]
    }
   ],
   "source": [
    "leagues = ['bundesliga', 'la_liga', 'ligue_un', 'premier_league', 'serie_a']\n",
    "\n",
    "sofascore_ratings = pd.DataFrame()\n",
    "for league in leagues:\n",
    "    ratings = pd.read_csv(f\"data/sofascore/{league}_sofascore.csv\")\n",
    "    league_dict = {\"bundesliga\": \"Bundesliga\",\n",
    "                   \"serie_a\": \"Serie A\",\n",
    "                   \"premier_league\": \"Premier League\",\n",
    "                   \"ligue_un\": \"Ligue 1\",\n",
    "                   \"la_liga\": \"La Liga\"\n",
    "                  }\n",
    "    \n",
    "    ratings['league_name'] = league.replace(league, league_dict[league])\n",
    "    ratings['season'] = ratings.season.str.replace('-', '')\n",
    "    \n",
    "    sofascore_ratings = pd.concat([sofascore_ratings, ratings], axis = 0)\n",
    "\n",
    "next_season_outcomes = pd.DataFrame()\n",
    "\n",
    "for season in seasons[1:]:\n",
    "    fbref = sd.FBref(leagues='Big 5 European Leagues Combined', seasons=season)\n",
    "    season_stats = fbref.read_team_season_stats(\"standard\").reset_index()\n",
    "    opp_stats = fbref.read_team_season_stats(\"standard\", opponent_stats=True).reset_index()\n",
    "\n",
    "    season_outcome = pd.DataFrame({\n",
    "        'team': season_stats.team,\n",
    "        'league': season_stats.league,\n",
    "        '90s': season_stats['Playing Time']['90s'],\n",
    "        'G-PK': season_stats['Performance']['G-PK'],\n",
    "        'G-PK_against': opp_stats['Performance']['G-PK'],\n",
    "        'NP-GD': season_stats['Performance']['G-PK'] - opp_stats['Performance']['G-PK']\n",
    "    })\n",
    "\n",
    "    sofascore_next_season_ratings = sofascore_ratings.copy()\n",
    "    sofascore_next_season_ratings = sofascore_next_season_ratings[['player', 'season', 'rating']].groupby(['player', 'season'], as_index=False).mean()\n",
    "    sofascore_next_season_ratings['season'] = (sofascore_next_season_ratings.season.astype(int) + 101).astype(str)\n",
    "\n",
    "    season_outcome = season_outcome.sort_values('team').reset_index(drop=True)\n",
    "    \n",
    "    player_stats = fbref.read_player_season_stats(\"standard\").reset_index()\n",
    "    player_stats['league_name'] = player_stats.league.str.split(\"-\").str[1]\n",
    "    player_stats.columns = [''.join(c) for c in player_stats.columns]\n",
    "\n",
    "    player_stats = player_stats.merge(sofascore_next_season_ratings, how='left', on=['player', 'season'])\n",
    "    player_stats['rating'] = player_stats['rating'].fillna(player_stats['rating'].mean())\n",
    "\n",
    "    player_stats['total_added'] = player_stats['rating'] * player_stats['Playing Time90s']\n",
    "\n",
    "    season_outcome['total_added'] = player_stats.groupby('team', as_index=False).sum()['total_added']\n",
    "    season_outcome['season'] = season\n",
    "\n",
    "    next_season_outcomes = pd.concat([season_outcome, next_season_outcomes], axis=0)\n",
    "\n",
    "X = np.asarray(next_season_outcomes[['total_added']])\n",
    "y = np.asarray(next_season_outcomes['NP-GD'])\n",
    "\n",
    "X = sm.add_constant(X)\n",
    "X = X.astype(float)\n",
    "\n",
    "kf = KFold(n_splits=5, shuffle=True, random_state=42)\n",
    "rmse_values = []\n",
    "\n",
    "for train_index, test_index in kf.split(X):\n",
    "    X_train, X_test = X[train_index], X[test_index]\n",
    "    y_train, y_test = y[train_index], y[test_index]\n",
    "    \n",
    "    model = sm.OLS(y_train, X_train).fit()\n",
    "    \n",
    "    y_pred = model.predict(X_test)\n",
    "    \n",
    "    residuals = (y_test - y_pred) / next_season_outcomes['90s'].iloc[test_index]\n",
    "    rmse = np.sqrt(np.mean(residuals**2))\n",
    "    rmse_values.append(rmse)\n",
    "\n",
    "sofascore_rmse = np.mean(rmse_values)\n",
    "print(\"Average RMSE across 5-fold cross-validation:\", sofascore_rmse)"
   ]
  },
  {
   "cell_type": "markdown",
   "id": "b122b860-d30d-49b0-8eb7-b87c8ece73f8",
   "metadata": {},
   "source": [
    "-------\n",
    "## VAEP"
   ]
  },
  {
   "cell_type": "code",
   "execution_count": 5,
   "id": "b3e74d0b-373b-42f4-9ec0-31f7b12b4047",
   "metadata": {},
   "outputs": [],
   "source": [
    "from unidecode import unidecode\n",
    "import re\n",
    "\n",
    "def convert_name(name):\n",
    "    name_ascii = unidecode(name)\n",
    "    name_cleaned = re.sub(r'[^a-zA-Z0-9\\s-]', '', name_ascii)\n",
    "    return name_cleaned"
   ]
  },
  {
   "cell_type": "code",
   "execution_count": 6,
   "id": "82750506-3d52-4f7b-8392-b8979b82d909",
   "metadata": {},
   "outputs": [
    {
     "data": {
      "text/html": [
       "<pre style=\"white-space:pre;overflow-x:auto;line-height:normal;font-family:Menlo,'DejaVu Sans Mono',consolas,'Courier New',monospace\"><span style=\"color: #7fbfbf; text-decoration-color: #7fbfbf\">[09/21/24 11:31:18] </span><span style=\"color: #000080; text-decoration-color: #000080\">INFO    </span> Saving cached data to <span style=\"color: #800080; text-decoration-color: #800080\">/Users/donaldcayton/soccerdata/data/</span><span style=\"color: #ff00ff; text-decoration-color: #ff00ff\">FBref</span>         <a href=\"file:///Users/donaldcayton/anaconda3/lib/python3.11/site-packages/soccerdata/_common.py\" target=\"_blank\"><span style=\"color: #7f7f7f; text-decoration-color: #7f7f7f\">_common.py</span></a><span style=\"color: #7f7f7f; text-decoration-color: #7f7f7f\">:</span><a href=\"file:///Users/donaldcayton/anaconda3/lib/python3.11/site-packages/soccerdata/_common.py#263\" target=\"_blank\"><span style=\"color: #7f7f7f; text-decoration-color: #7f7f7f\">263</span></a>\n",
       "</pre>\n"
      ],
      "text/plain": [
       "\u001b[2;36m[09/21/24 11:31:18]\u001b[0m\u001b[2;36m \u001b[0m\u001b[34mINFO    \u001b[0m Saving cached data to \u001b[35m/Users/donaldcayton/soccerdata/data/\u001b[0m\u001b[95mFBref\u001b[0m         \u001b]8;id=487357;file:///Users/donaldcayton/anaconda3/lib/python3.11/site-packages/soccerdata/_common.py\u001b\\\u001b[2m_common.py\u001b[0m\u001b]8;;\u001b\\\u001b[2m:\u001b[0m\u001b]8;id=315493;file:///Users/donaldcayton/anaconda3/lib/python3.11/site-packages/soccerdata/_common.py#263\u001b\\\u001b[2m263\u001b[0m\u001b]8;;\u001b\\\n"
      ]
     },
     "metadata": {},
     "output_type": "display_data"
    },
    {
     "data": {
      "text/html": [
       "<pre style=\"white-space:pre;overflow-x:auto;line-height:normal;font-family:Menlo,'DejaVu Sans Mono',consolas,'Courier New',monospace\"><span style=\"color: #7fbfbf; text-decoration-color: #7fbfbf\">[09/21/24 11:31:19] </span><span style=\"color: #000080; text-decoration-color: #000080\">INFO    </span> Saving cached data to <span style=\"color: #800080; text-decoration-color: #800080\">/Users/donaldcayton/soccerdata/data/</span><span style=\"color: #ff00ff; text-decoration-color: #ff00ff\">FBref</span>         <a href=\"file:///Users/donaldcayton/anaconda3/lib/python3.11/site-packages/soccerdata/_common.py\" target=\"_blank\"><span style=\"color: #7f7f7f; text-decoration-color: #7f7f7f\">_common.py</span></a><span style=\"color: #7f7f7f; text-decoration-color: #7f7f7f\">:</span><a href=\"file:///Users/donaldcayton/anaconda3/lib/python3.11/site-packages/soccerdata/_common.py#263\" target=\"_blank\"><span style=\"color: #7f7f7f; text-decoration-color: #7f7f7f\">263</span></a>\n",
       "</pre>\n"
      ],
      "text/plain": [
       "\u001b[2;36m[09/21/24 11:31:19]\u001b[0m\u001b[2;36m \u001b[0m\u001b[34mINFO    \u001b[0m Saving cached data to \u001b[35m/Users/donaldcayton/soccerdata/data/\u001b[0m\u001b[95mFBref\u001b[0m         \u001b]8;id=409654;file:///Users/donaldcayton/anaconda3/lib/python3.11/site-packages/soccerdata/_common.py\u001b\\\u001b[2m_common.py\u001b[0m\u001b]8;;\u001b\\\u001b[2m:\u001b[0m\u001b]8;id=799381;file:///Users/donaldcayton/anaconda3/lib/python3.11/site-packages/soccerdata/_common.py#263\u001b\\\u001b[2m263\u001b[0m\u001b]8;;\u001b\\\n"
      ]
     },
     "metadata": {},
     "output_type": "display_data"
    },
    {
     "data": {
      "text/html": [
       "<pre style=\"white-space:pre;overflow-x:auto;line-height:normal;font-family:Menlo,'DejaVu Sans Mono',consolas,'Courier New',monospace\"><span style=\"color: #7fbfbf; text-decoration-color: #7fbfbf\">[09/21/24 11:31:21] </span><span style=\"color: #000080; text-decoration-color: #000080\">INFO    </span> Saving cached data to <span style=\"color: #800080; text-decoration-color: #800080\">/Users/donaldcayton/soccerdata/data/</span><span style=\"color: #ff00ff; text-decoration-color: #ff00ff\">FBref</span>         <a href=\"file:///Users/donaldcayton/anaconda3/lib/python3.11/site-packages/soccerdata/_common.py\" target=\"_blank\"><span style=\"color: #7f7f7f; text-decoration-color: #7f7f7f\">_common.py</span></a><span style=\"color: #7f7f7f; text-decoration-color: #7f7f7f\">:</span><a href=\"file:///Users/donaldcayton/anaconda3/lib/python3.11/site-packages/soccerdata/_common.py#263\" target=\"_blank\"><span style=\"color: #7f7f7f; text-decoration-color: #7f7f7f\">263</span></a>\n",
       "</pre>\n"
      ],
      "text/plain": [
       "\u001b[2;36m[09/21/24 11:31:21]\u001b[0m\u001b[2;36m \u001b[0m\u001b[34mINFO    \u001b[0m Saving cached data to \u001b[35m/Users/donaldcayton/soccerdata/data/\u001b[0m\u001b[95mFBref\u001b[0m         \u001b]8;id=981754;file:///Users/donaldcayton/anaconda3/lib/python3.11/site-packages/soccerdata/_common.py\u001b\\\u001b[2m_common.py\u001b[0m\u001b]8;;\u001b\\\u001b[2m:\u001b[0m\u001b]8;id=102638;file:///Users/donaldcayton/anaconda3/lib/python3.11/site-packages/soccerdata/_common.py#263\u001b\\\u001b[2m263\u001b[0m\u001b]8;;\u001b\\\n"
      ]
     },
     "metadata": {},
     "output_type": "display_data"
    },
    {
     "data": {
      "text/html": [
       "<pre style=\"white-space:pre;overflow-x:auto;line-height:normal;font-family:Menlo,'DejaVu Sans Mono',consolas,'Courier New',monospace\"><span style=\"color: #7fbfbf; text-decoration-color: #7fbfbf\">[09/21/24 11:31:22] </span><span style=\"color: #000080; text-decoration-color: #000080\">INFO    </span> Saving cached data to <span style=\"color: #800080; text-decoration-color: #800080\">/Users/donaldcayton/soccerdata/data/</span><span style=\"color: #ff00ff; text-decoration-color: #ff00ff\">FBref</span>         <a href=\"file:///Users/donaldcayton/anaconda3/lib/python3.11/site-packages/soccerdata/_common.py\" target=\"_blank\"><span style=\"color: #7f7f7f; text-decoration-color: #7f7f7f\">_common.py</span></a><span style=\"color: #7f7f7f; text-decoration-color: #7f7f7f\">:</span><a href=\"file:///Users/donaldcayton/anaconda3/lib/python3.11/site-packages/soccerdata/_common.py#263\" target=\"_blank\"><span style=\"color: #7f7f7f; text-decoration-color: #7f7f7f\">263</span></a>\n",
       "</pre>\n"
      ],
      "text/plain": [
       "\u001b[2;36m[09/21/24 11:31:22]\u001b[0m\u001b[2;36m \u001b[0m\u001b[34mINFO    \u001b[0m Saving cached data to \u001b[35m/Users/donaldcayton/soccerdata/data/\u001b[0m\u001b[95mFBref\u001b[0m         \u001b]8;id=598831;file:///Users/donaldcayton/anaconda3/lib/python3.11/site-packages/soccerdata/_common.py\u001b\\\u001b[2m_common.py\u001b[0m\u001b]8;;\u001b\\\u001b[2m:\u001b[0m\u001b]8;id=47509;file:///Users/donaldcayton/anaconda3/lib/python3.11/site-packages/soccerdata/_common.py#263\u001b\\\u001b[2m263\u001b[0m\u001b]8;;\u001b\\\n"
      ]
     },
     "metadata": {},
     "output_type": "display_data"
    },
    {
     "data": {
      "text/html": [
       "<pre style=\"white-space:pre;overflow-x:auto;line-height:normal;font-family:Menlo,'DejaVu Sans Mono',consolas,'Courier New',monospace\"><span style=\"color: #7fbfbf; text-decoration-color: #7fbfbf\">[09/21/24 11:31:23] </span><span style=\"color: #000080; text-decoration-color: #000080\">INFO    </span> Saving cached data to <span style=\"color: #800080; text-decoration-color: #800080\">/Users/donaldcayton/soccerdata/data/</span><span style=\"color: #ff00ff; text-decoration-color: #ff00ff\">FBref</span>         <a href=\"file:///Users/donaldcayton/anaconda3/lib/python3.11/site-packages/soccerdata/_common.py\" target=\"_blank\"><span style=\"color: #7f7f7f; text-decoration-color: #7f7f7f\">_common.py</span></a><span style=\"color: #7f7f7f; text-decoration-color: #7f7f7f\">:</span><a href=\"file:///Users/donaldcayton/anaconda3/lib/python3.11/site-packages/soccerdata/_common.py#263\" target=\"_blank\"><span style=\"color: #7f7f7f; text-decoration-color: #7f7f7f\">263</span></a>\n",
       "</pre>\n"
      ],
      "text/plain": [
       "\u001b[2;36m[09/21/24 11:31:23]\u001b[0m\u001b[2;36m \u001b[0m\u001b[34mINFO    \u001b[0m Saving cached data to \u001b[35m/Users/donaldcayton/soccerdata/data/\u001b[0m\u001b[95mFBref\u001b[0m         \u001b]8;id=379055;file:///Users/donaldcayton/anaconda3/lib/python3.11/site-packages/soccerdata/_common.py\u001b\\\u001b[2m_common.py\u001b[0m\u001b]8;;\u001b\\\u001b[2m:\u001b[0m\u001b]8;id=835848;file:///Users/donaldcayton/anaconda3/lib/python3.11/site-packages/soccerdata/_common.py#263\u001b\\\u001b[2m263\u001b[0m\u001b]8;;\u001b\\\n"
      ]
     },
     "metadata": {},
     "output_type": "display_data"
    },
    {
     "name": "stdout",
     "output_type": "stream",
     "text": [
      "Average RMSE across 5-fold cross-validation: 0.5188237565753758\n"
     ]
    }
   ],
   "source": [
    "all_season_outcomes = pd.DataFrame()\n",
    "\n",
    "for i, season in enumerate(seasons[1:]):\n",
    "    vaep = pd.read_csv(f'data/spadl/spadl_{seasons[i]}/adj_vaep_{seasons[i]}.csv', index_col = 'Unnamed: 0')\n",
    "\n",
    "    fbref = sd.FBref(leagues = 'Big 5 European Leagues Combined', seasons = season)\n",
    "    season_stats = fbref.read_team_season_stats(\"standard\").reset_index()\n",
    "    opp_stats = fbref.read_team_season_stats(\"standard\", opponent_stats = True).reset_index()\n",
    "\n",
    "    season_outcome = pd.DataFrame({\n",
    "                    'team': season_stats.team,\n",
    "                    'league': season_stats.league,\n",
    "                    '90s': season_stats['Playing Time']['90s'],\n",
    "                    'G-PK': season_stats['Performance']['G-PK'],\n",
    "                    'G-PK_against': opp_stats['Performance']['G-PK'],\n",
    "                    'NP-GD': season_stats['Performance']['G-PK'] - opp_stats['Performance']['G-PK']\n",
    "                })\n",
    "\n",
    "    season_outcome = season_outcome.sort_values('team').reset_index(drop = True)\n",
    "\n",
    "    player_stats = fbref.read_player_season_stats(\"standard\").reset_index()\n",
    "\n",
    "    player_stats['league_name'] = player_stats.league.str.split(\"-\").str[1]\n",
    "    player_stats.columns = [''.join(c) for c in player_stats.columns]\n",
    "    \n",
    "    vaep.team_name = vaep.team_name.replace(team_replace)\n",
    "    \n",
    "    vaep = vaep.rename({'player_name': 'player', 'team_name': 'team'}, axis = 1)\n",
    "    \n",
    "    player_stats['player'] = player_stats['player'].apply(convert_name)\n",
    "    vaep['player'] = vaep['player'].apply(convert_name)\n",
    "\n",
    "    player_stats = player_stats.merge(vaep, how = 'left', on = ['player'])\n",
    "    player_stats.vaep_rating = player_stats.vaep_rating.fillna(np.mean(player_stats.vaep_rating))\n",
    "    \n",
    "    player_stats['total_added'] = player_stats['vaep_rating'] * player_stats['Playing Time90s']\n",
    "\n",
    "    season_outcome['total_added'] = player_stats.groupby('team_x', as_index = False).sum()['total_added']\n",
    "    season_outcome['season'] = season\n",
    "    \n",
    "    all_season_outcomes = pd.concat([all_season_outcomes, season_outcome], axis = 0)\n",
    "\n",
    "all_season_outcomes = all_season_outcomes.reset_index(drop=True)\n",
    "\n",
    "\n",
    "X = np.asarray(all_season_outcomes[['total_added']])\n",
    "y = np.asarray(all_season_outcomes['NP-GD'] / all_season_outcomes['90s'])\n",
    "\n",
    "X = sm.add_constant(X)\n",
    "X = X.astype(float)\n",
    "\n",
    "kf = KFold(n_splits=5, shuffle=True, random_state=42)\n",
    "rmse_values = []\n",
    "\n",
    "for train_index, test_index in kf.split(X):\n",
    "    X_train, X_test = X[train_index], X[test_index]\n",
    "    y_train, y_test = y[train_index], y[test_index]\n",
    "    \n",
    "    model = sm.OLS(y_train, X_train).fit()\n",
    "    \n",
    "    y_pred = model.predict(X_test)\n",
    "    \n",
    "    residuals = y_test - y_pred\n",
    "    \n",
    "    rmse = np.sqrt(np.mean(residuals**2))\n",
    "    rmse_values.append(rmse)\n",
    "\n",
    "vaep_rmse = np.mean(rmse_values)\n",
    "print(\"Average RMSE across 5-fold cross-validation:\", vaep_rmse)"
   ]
  },
  {
   "cell_type": "markdown",
   "id": "50d199ea-5f80-4558-9a58-49d8d5eeed8e",
   "metadata": {},
   "source": [
    "-------\n",
    "## Atomic VAEP"
   ]
  },
  {
   "cell_type": "code",
   "execution_count": 7,
   "id": "e1f9471a-d400-42d1-9582-002d48124119",
   "metadata": {},
   "outputs": [
    {
     "data": {
      "text/html": [
       "<pre style=\"white-space:pre;overflow-x:auto;line-height:normal;font-family:Menlo,'DejaVu Sans Mono',consolas,'Courier New',monospace\"><span style=\"color: #7fbfbf; text-decoration-color: #7fbfbf\">[09/21/24 11:31:25] </span><span style=\"color: #000080; text-decoration-color: #000080\">INFO    </span> Saving cached data to <span style=\"color: #800080; text-decoration-color: #800080\">/Users/donaldcayton/soccerdata/data/</span><span style=\"color: #ff00ff; text-decoration-color: #ff00ff\">FBref</span>         <a href=\"file:///Users/donaldcayton/anaconda3/lib/python3.11/site-packages/soccerdata/_common.py\" target=\"_blank\"><span style=\"color: #7f7f7f; text-decoration-color: #7f7f7f\">_common.py</span></a><span style=\"color: #7f7f7f; text-decoration-color: #7f7f7f\">:</span><a href=\"file:///Users/donaldcayton/anaconda3/lib/python3.11/site-packages/soccerdata/_common.py#263\" target=\"_blank\"><span style=\"color: #7f7f7f; text-decoration-color: #7f7f7f\">263</span></a>\n",
       "</pre>\n"
      ],
      "text/plain": [
       "\u001b[2;36m[09/21/24 11:31:25]\u001b[0m\u001b[2;36m \u001b[0m\u001b[34mINFO    \u001b[0m Saving cached data to \u001b[35m/Users/donaldcayton/soccerdata/data/\u001b[0m\u001b[95mFBref\u001b[0m         \u001b]8;id=21092;file:///Users/donaldcayton/anaconda3/lib/python3.11/site-packages/soccerdata/_common.py\u001b\\\u001b[2m_common.py\u001b[0m\u001b]8;;\u001b\\\u001b[2m:\u001b[0m\u001b]8;id=850086;file:///Users/donaldcayton/anaconda3/lib/python3.11/site-packages/soccerdata/_common.py#263\u001b\\\u001b[2m263\u001b[0m\u001b]8;;\u001b\\\n"
      ]
     },
     "metadata": {},
     "output_type": "display_data"
    },
    {
     "data": {
      "text/html": [
       "<pre style=\"white-space:pre;overflow-x:auto;line-height:normal;font-family:Menlo,'DejaVu Sans Mono',consolas,'Courier New',monospace\"><span style=\"color: #7fbfbf; text-decoration-color: #7fbfbf\">[09/21/24 11:31:26] </span><span style=\"color: #000080; text-decoration-color: #000080\">INFO    </span> Saving cached data to <span style=\"color: #800080; text-decoration-color: #800080\">/Users/donaldcayton/soccerdata/data/</span><span style=\"color: #ff00ff; text-decoration-color: #ff00ff\">FBref</span>         <a href=\"file:///Users/donaldcayton/anaconda3/lib/python3.11/site-packages/soccerdata/_common.py\" target=\"_blank\"><span style=\"color: #7f7f7f; text-decoration-color: #7f7f7f\">_common.py</span></a><span style=\"color: #7f7f7f; text-decoration-color: #7f7f7f\">:</span><a href=\"file:///Users/donaldcayton/anaconda3/lib/python3.11/site-packages/soccerdata/_common.py#263\" target=\"_blank\"><span style=\"color: #7f7f7f; text-decoration-color: #7f7f7f\">263</span></a>\n",
       "</pre>\n"
      ],
      "text/plain": [
       "\u001b[2;36m[09/21/24 11:31:26]\u001b[0m\u001b[2;36m \u001b[0m\u001b[34mINFO    \u001b[0m Saving cached data to \u001b[35m/Users/donaldcayton/soccerdata/data/\u001b[0m\u001b[95mFBref\u001b[0m         \u001b]8;id=116977;file:///Users/donaldcayton/anaconda3/lib/python3.11/site-packages/soccerdata/_common.py\u001b\\\u001b[2m_common.py\u001b[0m\u001b]8;;\u001b\\\u001b[2m:\u001b[0m\u001b]8;id=812808;file:///Users/donaldcayton/anaconda3/lib/python3.11/site-packages/soccerdata/_common.py#263\u001b\\\u001b[2m263\u001b[0m\u001b]8;;\u001b\\\n"
      ]
     },
     "metadata": {},
     "output_type": "display_data"
    },
    {
     "data": {
      "text/html": [
       "<pre style=\"white-space:pre;overflow-x:auto;line-height:normal;font-family:Menlo,'DejaVu Sans Mono',consolas,'Courier New',monospace\"><span style=\"color: #7fbfbf; text-decoration-color: #7fbfbf\">[09/21/24 11:31:27] </span><span style=\"color: #000080; text-decoration-color: #000080\">INFO    </span> Saving cached data to <span style=\"color: #800080; text-decoration-color: #800080\">/Users/donaldcayton/soccerdata/data/</span><span style=\"color: #ff00ff; text-decoration-color: #ff00ff\">FBref</span>         <a href=\"file:///Users/donaldcayton/anaconda3/lib/python3.11/site-packages/soccerdata/_common.py\" target=\"_blank\"><span style=\"color: #7f7f7f; text-decoration-color: #7f7f7f\">_common.py</span></a><span style=\"color: #7f7f7f; text-decoration-color: #7f7f7f\">:</span><a href=\"file:///Users/donaldcayton/anaconda3/lib/python3.11/site-packages/soccerdata/_common.py#263\" target=\"_blank\"><span style=\"color: #7f7f7f; text-decoration-color: #7f7f7f\">263</span></a>\n",
       "</pre>\n"
      ],
      "text/plain": [
       "\u001b[2;36m[09/21/24 11:31:27]\u001b[0m\u001b[2;36m \u001b[0m\u001b[34mINFO    \u001b[0m Saving cached data to \u001b[35m/Users/donaldcayton/soccerdata/data/\u001b[0m\u001b[95mFBref\u001b[0m         \u001b]8;id=212921;file:///Users/donaldcayton/anaconda3/lib/python3.11/site-packages/soccerdata/_common.py\u001b\\\u001b[2m_common.py\u001b[0m\u001b]8;;\u001b\\\u001b[2m:\u001b[0m\u001b]8;id=152725;file:///Users/donaldcayton/anaconda3/lib/python3.11/site-packages/soccerdata/_common.py#263\u001b\\\u001b[2m263\u001b[0m\u001b]8;;\u001b\\\n"
      ]
     },
     "metadata": {},
     "output_type": "display_data"
    },
    {
     "data": {
      "text/html": [
       "<pre style=\"white-space:pre;overflow-x:auto;line-height:normal;font-family:Menlo,'DejaVu Sans Mono',consolas,'Courier New',monospace\"><span style=\"color: #7fbfbf; text-decoration-color: #7fbfbf\">[09/21/24 11:31:29] </span><span style=\"color: #000080; text-decoration-color: #000080\">INFO    </span> Saving cached data to <span style=\"color: #800080; text-decoration-color: #800080\">/Users/donaldcayton/soccerdata/data/</span><span style=\"color: #ff00ff; text-decoration-color: #ff00ff\">FBref</span>         <a href=\"file:///Users/donaldcayton/anaconda3/lib/python3.11/site-packages/soccerdata/_common.py\" target=\"_blank\"><span style=\"color: #7f7f7f; text-decoration-color: #7f7f7f\">_common.py</span></a><span style=\"color: #7f7f7f; text-decoration-color: #7f7f7f\">:</span><a href=\"file:///Users/donaldcayton/anaconda3/lib/python3.11/site-packages/soccerdata/_common.py#263\" target=\"_blank\"><span style=\"color: #7f7f7f; text-decoration-color: #7f7f7f\">263</span></a>\n",
       "</pre>\n"
      ],
      "text/plain": [
       "\u001b[2;36m[09/21/24 11:31:29]\u001b[0m\u001b[2;36m \u001b[0m\u001b[34mINFO    \u001b[0m Saving cached data to \u001b[35m/Users/donaldcayton/soccerdata/data/\u001b[0m\u001b[95mFBref\u001b[0m         \u001b]8;id=347696;file:///Users/donaldcayton/anaconda3/lib/python3.11/site-packages/soccerdata/_common.py\u001b\\\u001b[2m_common.py\u001b[0m\u001b]8;;\u001b\\\u001b[2m:\u001b[0m\u001b]8;id=364230;file:///Users/donaldcayton/anaconda3/lib/python3.11/site-packages/soccerdata/_common.py#263\u001b\\\u001b[2m263\u001b[0m\u001b]8;;\u001b\\\n"
      ]
     },
     "metadata": {},
     "output_type": "display_data"
    },
    {
     "data": {
      "text/html": [
       "<pre style=\"white-space:pre;overflow-x:auto;line-height:normal;font-family:Menlo,'DejaVu Sans Mono',consolas,'Courier New',monospace\"><span style=\"color: #7fbfbf; text-decoration-color: #7fbfbf\">[09/21/24 11:31:30] </span><span style=\"color: #000080; text-decoration-color: #000080\">INFO    </span> Saving cached data to <span style=\"color: #800080; text-decoration-color: #800080\">/Users/donaldcayton/soccerdata/data/</span><span style=\"color: #ff00ff; text-decoration-color: #ff00ff\">FBref</span>         <a href=\"file:///Users/donaldcayton/anaconda3/lib/python3.11/site-packages/soccerdata/_common.py\" target=\"_blank\"><span style=\"color: #7f7f7f; text-decoration-color: #7f7f7f\">_common.py</span></a><span style=\"color: #7f7f7f; text-decoration-color: #7f7f7f\">:</span><a href=\"file:///Users/donaldcayton/anaconda3/lib/python3.11/site-packages/soccerdata/_common.py#263\" target=\"_blank\"><span style=\"color: #7f7f7f; text-decoration-color: #7f7f7f\">263</span></a>\n",
       "</pre>\n"
      ],
      "text/plain": [
       "\u001b[2;36m[09/21/24 11:31:30]\u001b[0m\u001b[2;36m \u001b[0m\u001b[34mINFO    \u001b[0m Saving cached data to \u001b[35m/Users/donaldcayton/soccerdata/data/\u001b[0m\u001b[95mFBref\u001b[0m         \u001b]8;id=352278;file:///Users/donaldcayton/anaconda3/lib/python3.11/site-packages/soccerdata/_common.py\u001b\\\u001b[2m_common.py\u001b[0m\u001b]8;;\u001b\\\u001b[2m:\u001b[0m\u001b]8;id=600526;file:///Users/donaldcayton/anaconda3/lib/python3.11/site-packages/soccerdata/_common.py#263\u001b\\\u001b[2m263\u001b[0m\u001b]8;;\u001b\\\n"
      ]
     },
     "metadata": {},
     "output_type": "display_data"
    },
    {
     "name": "stdout",
     "output_type": "stream",
     "text": [
      "Average RMSE across 5-fold cross-validation: 0.5568371778764369\n"
     ]
    }
   ],
   "source": [
    "all_season_outcomes = pd.DataFrame()\n",
    "\n",
    "for i, season in enumerate(seasons[1:]):\n",
    "    vaep = pd.read_csv(f'data/spadl/spadl_{seasons[i]}/adj_atomic_vaep_{seasons[i]}.csv', index_col = 'Unnamed: 0')\n",
    "\n",
    "    fbref = sd.FBref(leagues = 'Big 5 European Leagues Combined', seasons = season)\n",
    "    season_stats = fbref.read_team_season_stats(\"standard\").reset_index()\n",
    "    opp_stats = fbref.read_team_season_stats(\"standard\", opponent_stats = True).reset_index()\n",
    "\n",
    "    season_outcome = pd.DataFrame({\n",
    "                    'team': season_stats.team,\n",
    "                    'league': season_stats.league,\n",
    "                    '90s': season_stats['Playing Time']['90s'],\n",
    "                    'G-PK': season_stats['Performance']['G-PK'],\n",
    "                    'G-PK_against': opp_stats['Performance']['G-PK'],\n",
    "                    'NP-GD': season_stats['Performance']['G-PK'] - opp_stats['Performance']['G-PK']\n",
    "                })\n",
    "\n",
    "    season_outcome = season_outcome.sort_values('team').reset_index(drop = True)\n",
    "\n",
    "    player_stats = fbref.read_player_season_stats(\"standard\").reset_index()\n",
    "\n",
    "    player_stats['league_name'] = player_stats.league.str.split(\"-\").str[1]\n",
    "    player_stats.columns = [''.join(c) for c in player_stats.columns]\n",
    "    \n",
    "    vaep.team_name = vaep.team_name.replace(team_replace)\n",
    "    \n",
    "    vaep = vaep.rename({'player_name': 'player', 'team_name': 'team'}, axis = 1)\n",
    "    \n",
    "    player_stats['player'] = player_stats['player'].apply(convert_name)\n",
    "    vaep['player'] = vaep['player'].apply(convert_name)\n",
    "\n",
    "    player_stats = player_stats.merge(vaep, how = 'left', on = ['player'])\n",
    "    player_stats.vaep_rating = player_stats.vaep_rating.fillna(np.mean(player_stats.vaep_rating))\n",
    "    \n",
    "    player_stats['total_added'] = player_stats['vaep_rating'] * player_stats['Playing Time90s']\n",
    "\n",
    "    season_outcome['total_added'] = player_stats.groupby('team_x', as_index = False).sum()['total_added']\n",
    "    season_outcome['season'] = season\n",
    "    \n",
    "    all_season_outcomes = pd.concat([all_season_outcomes, season_outcome], axis = 0)\n",
    "\n",
    "all_season_outcomes = all_season_outcomes.reset_index(drop=True)\n",
    "\n",
    "all_season_outcomes = pd.get_dummies(all_season_outcomes, columns=['league'], drop_first=True, dtype = float)\n",
    "\n",
    "X = np.asarray(all_season_outcomes[['total_added'] + list(all_season_outcomes.columns[all_season_outcomes.columns.str.startswith('league_')])])\n",
    "y = np.asarray(all_season_outcomes['NP-GD'] / all_season_outcomes['90s'])\n",
    "\n",
    "X = sm.add_constant(X)\n",
    "X = X.astype(float)\n",
    "\n",
    "kf = KFold(n_splits=5, shuffle=True, random_state=42)\n",
    "rmse_values = []\n",
    "\n",
    "for train_index, test_index in kf.split(X):\n",
    "    X_train, X_test = X[train_index], X[test_index]\n",
    "    y_train, y_test = y[train_index], y[test_index]\n",
    "    \n",
    "    model = sm.OLS(y_train, X_train).fit()\n",
    "    \n",
    "    y_pred = model.predict(X_test)\n",
    "    \n",
    "    residuals = y_test - y_pred\n",
    "    \n",
    "    rmse = np.sqrt(np.mean(residuals**2))\n",
    "    rmse_values.append(rmse)\n",
    "\n",
    "atomic_vaep_rmse = np.mean(rmse_values)\n",
    "print(\"Average RMSE across 5-fold cross-validation:\", atomic_vaep_rmse)"
   ]
  },
  {
   "cell_type": "markdown",
   "id": "e6b79a1e-154d-4c6f-8577-cdac77d96129",
   "metadata": {},
   "source": [
    "-----\n",
    "## MBAPPE"
   ]
  },
  {
   "cell_type": "code",
   "execution_count": 8,
   "id": "5d134c41-ea7f-43e2-810d-aa83d3b283d4",
   "metadata": {},
   "outputs": [
    {
     "data": {
      "text/html": [
       "<pre style=\"white-space:pre;overflow-x:auto;line-height:normal;font-family:Menlo,'DejaVu Sans Mono',consolas,'Courier New',monospace\"><span style=\"color: #7fbfbf; text-decoration-color: #7fbfbf\">[09/21/24 11:31:36] </span><span style=\"color: #000080; text-decoration-color: #000080\">INFO    </span> Saving cached data to <span style=\"color: #800080; text-decoration-color: #800080\">/Users/donaldcayton/soccerdata/data/</span><span style=\"color: #ff00ff; text-decoration-color: #ff00ff\">FBref</span>         <a href=\"file:///Users/donaldcayton/anaconda3/lib/python3.11/site-packages/soccerdata/_common.py\" target=\"_blank\"><span style=\"color: #7f7f7f; text-decoration-color: #7f7f7f\">_common.py</span></a><span style=\"color: #7f7f7f; text-decoration-color: #7f7f7f\">:</span><a href=\"file:///Users/donaldcayton/anaconda3/lib/python3.11/site-packages/soccerdata/_common.py#263\" target=\"_blank\"><span style=\"color: #7f7f7f; text-decoration-color: #7f7f7f\">263</span></a>\n",
       "</pre>\n"
      ],
      "text/plain": [
       "\u001b[2;36m[09/21/24 11:31:36]\u001b[0m\u001b[2;36m \u001b[0m\u001b[34mINFO    \u001b[0m Saving cached data to \u001b[35m/Users/donaldcayton/soccerdata/data/\u001b[0m\u001b[95mFBref\u001b[0m         \u001b]8;id=550328;file:///Users/donaldcayton/anaconda3/lib/python3.11/site-packages/soccerdata/_common.py\u001b\\\u001b[2m_common.py\u001b[0m\u001b]8;;\u001b\\\u001b[2m:\u001b[0m\u001b]8;id=970176;file:///Users/donaldcayton/anaconda3/lib/python3.11/site-packages/soccerdata/_common.py#263\u001b\\\u001b[2m263\u001b[0m\u001b]8;;\u001b\\\n"
      ]
     },
     "metadata": {},
     "output_type": "display_data"
    },
    {
     "data": {
      "text/html": [
       "<pre style=\"white-space:pre;overflow-x:auto;line-height:normal;font-family:Menlo,'DejaVu Sans Mono',consolas,'Courier New',monospace\"><span style=\"color: #7fbfbf; text-decoration-color: #7fbfbf\">[09/21/24 11:31:37] </span><span style=\"color: #000080; text-decoration-color: #000080\">INFO    </span> Saving cached data to <span style=\"color: #800080; text-decoration-color: #800080\">/Users/donaldcayton/soccerdata/data/</span><span style=\"color: #ff00ff; text-decoration-color: #ff00ff\">FBref</span>         <a href=\"file:///Users/donaldcayton/anaconda3/lib/python3.11/site-packages/soccerdata/_common.py\" target=\"_blank\"><span style=\"color: #7f7f7f; text-decoration-color: #7f7f7f\">_common.py</span></a><span style=\"color: #7f7f7f; text-decoration-color: #7f7f7f\">:</span><a href=\"file:///Users/donaldcayton/anaconda3/lib/python3.11/site-packages/soccerdata/_common.py#263\" target=\"_blank\"><span style=\"color: #7f7f7f; text-decoration-color: #7f7f7f\">263</span></a>\n",
       "</pre>\n"
      ],
      "text/plain": [
       "\u001b[2;36m[09/21/24 11:31:37]\u001b[0m\u001b[2;36m \u001b[0m\u001b[34mINFO    \u001b[0m Saving cached data to \u001b[35m/Users/donaldcayton/soccerdata/data/\u001b[0m\u001b[95mFBref\u001b[0m         \u001b]8;id=281476;file:///Users/donaldcayton/anaconda3/lib/python3.11/site-packages/soccerdata/_common.py\u001b\\\u001b[2m_common.py\u001b[0m\u001b]8;;\u001b\\\u001b[2m:\u001b[0m\u001b]8;id=381083;file:///Users/donaldcayton/anaconda3/lib/python3.11/site-packages/soccerdata/_common.py#263\u001b\\\u001b[2m263\u001b[0m\u001b]8;;\u001b\\\n"
      ]
     },
     "metadata": {},
     "output_type": "display_data"
    },
    {
     "data": {
      "text/html": [
       "<pre style=\"white-space:pre;overflow-x:auto;line-height:normal;font-family:Menlo,'DejaVu Sans Mono',consolas,'Courier New',monospace\"><span style=\"color: #7fbfbf; text-decoration-color: #7fbfbf\">[09/21/24 11:31:38] </span><span style=\"color: #000080; text-decoration-color: #000080\">INFO    </span> Saving cached data to <span style=\"color: #800080; text-decoration-color: #800080\">/Users/donaldcayton/soccerdata/data/</span><span style=\"color: #ff00ff; text-decoration-color: #ff00ff\">FBref</span>         <a href=\"file:///Users/donaldcayton/anaconda3/lib/python3.11/site-packages/soccerdata/_common.py\" target=\"_blank\"><span style=\"color: #7f7f7f; text-decoration-color: #7f7f7f\">_common.py</span></a><span style=\"color: #7f7f7f; text-decoration-color: #7f7f7f\">:</span><a href=\"file:///Users/donaldcayton/anaconda3/lib/python3.11/site-packages/soccerdata/_common.py#263\" target=\"_blank\"><span style=\"color: #7f7f7f; text-decoration-color: #7f7f7f\">263</span></a>\n",
       "</pre>\n"
      ],
      "text/plain": [
       "\u001b[2;36m[09/21/24 11:31:38]\u001b[0m\u001b[2;36m \u001b[0m\u001b[34mINFO    \u001b[0m Saving cached data to \u001b[35m/Users/donaldcayton/soccerdata/data/\u001b[0m\u001b[95mFBref\u001b[0m         \u001b]8;id=758524;file:///Users/donaldcayton/anaconda3/lib/python3.11/site-packages/soccerdata/_common.py\u001b\\\u001b[2m_common.py\u001b[0m\u001b]8;;\u001b\\\u001b[2m:\u001b[0m\u001b]8;id=256077;file:///Users/donaldcayton/anaconda3/lib/python3.11/site-packages/soccerdata/_common.py#263\u001b\\\u001b[2m263\u001b[0m\u001b]8;;\u001b\\\n"
      ]
     },
     "metadata": {},
     "output_type": "display_data"
    },
    {
     "data": {
      "text/html": [
       "<pre style=\"white-space:pre;overflow-x:auto;line-height:normal;font-family:Menlo,'DejaVu Sans Mono',consolas,'Courier New',monospace\"><span style=\"color: #7fbfbf; text-decoration-color: #7fbfbf\">[09/21/24 11:31:39] </span><span style=\"color: #000080; text-decoration-color: #000080\">INFO    </span> Saving cached data to <span style=\"color: #800080; text-decoration-color: #800080\">/Users/donaldcayton/soccerdata/data/</span><span style=\"color: #ff00ff; text-decoration-color: #ff00ff\">FBref</span>         <a href=\"file:///Users/donaldcayton/anaconda3/lib/python3.11/site-packages/soccerdata/_common.py\" target=\"_blank\"><span style=\"color: #7f7f7f; text-decoration-color: #7f7f7f\">_common.py</span></a><span style=\"color: #7f7f7f; text-decoration-color: #7f7f7f\">:</span><a href=\"file:///Users/donaldcayton/anaconda3/lib/python3.11/site-packages/soccerdata/_common.py#263\" target=\"_blank\"><span style=\"color: #7f7f7f; text-decoration-color: #7f7f7f\">263</span></a>\n",
       "</pre>\n"
      ],
      "text/plain": [
       "\u001b[2;36m[09/21/24 11:31:39]\u001b[0m\u001b[2;36m \u001b[0m\u001b[34mINFO    \u001b[0m Saving cached data to \u001b[35m/Users/donaldcayton/soccerdata/data/\u001b[0m\u001b[95mFBref\u001b[0m         \u001b]8;id=556094;file:///Users/donaldcayton/anaconda3/lib/python3.11/site-packages/soccerdata/_common.py\u001b\\\u001b[2m_common.py\u001b[0m\u001b]8;;\u001b\\\u001b[2m:\u001b[0m\u001b]8;id=851960;file:///Users/donaldcayton/anaconda3/lib/python3.11/site-packages/soccerdata/_common.py#263\u001b\\\u001b[2m263\u001b[0m\u001b]8;;\u001b\\\n"
      ]
     },
     "metadata": {},
     "output_type": "display_data"
    },
    {
     "data": {
      "text/html": [
       "<pre style=\"white-space:pre;overflow-x:auto;line-height:normal;font-family:Menlo,'DejaVu Sans Mono',consolas,'Courier New',monospace\"><span style=\"color: #7fbfbf; text-decoration-color: #7fbfbf\">[09/21/24 11:31:40] </span><span style=\"color: #000080; text-decoration-color: #000080\">INFO    </span> Saving cached data to <span style=\"color: #800080; text-decoration-color: #800080\">/Users/donaldcayton/soccerdata/data/</span><span style=\"color: #ff00ff; text-decoration-color: #ff00ff\">FBref</span>         <a href=\"file:///Users/donaldcayton/anaconda3/lib/python3.11/site-packages/soccerdata/_common.py\" target=\"_blank\"><span style=\"color: #7f7f7f; text-decoration-color: #7f7f7f\">_common.py</span></a><span style=\"color: #7f7f7f; text-decoration-color: #7f7f7f\">:</span><a href=\"file:///Users/donaldcayton/anaconda3/lib/python3.11/site-packages/soccerdata/_common.py#263\" target=\"_blank\"><span style=\"color: #7f7f7f; text-decoration-color: #7f7f7f\">263</span></a>\n",
       "</pre>\n"
      ],
      "text/plain": [
       "\u001b[2;36m[09/21/24 11:31:40]\u001b[0m\u001b[2;36m \u001b[0m\u001b[34mINFO    \u001b[0m Saving cached data to \u001b[35m/Users/donaldcayton/soccerdata/data/\u001b[0m\u001b[95mFBref\u001b[0m         \u001b]8;id=311854;file:///Users/donaldcayton/anaconda3/lib/python3.11/site-packages/soccerdata/_common.py\u001b\\\u001b[2m_common.py\u001b[0m\u001b]8;;\u001b\\\u001b[2m:\u001b[0m\u001b]8;id=845523;file:///Users/donaldcayton/anaconda3/lib/python3.11/site-packages/soccerdata/_common.py#263\u001b\\\u001b[2m263\u001b[0m\u001b]8;;\u001b\\\n"
      ]
     },
     "metadata": {},
     "output_type": "display_data"
    },
    {
     "name": "stdout",
     "output_type": "stream",
     "text": [
      "Average RMSE across 5-fold cross-validation: 0.4881476952403695\n"
     ]
    }
   ],
   "source": [
    "mbappe_results = pd.DataFrame()\n",
    "for i, season in enumerate(seasons[1:]):\n",
    "    fbref = sd.FBref(leagues = 'Big 5 European Leagues Combined', seasons = season)\n",
    "    season_stats = fbref.read_team_season_stats(\"standard\").reset_index()\n",
    "    opp_stats = fbref.read_team_season_stats(\"standard\", opponent_stats = True).reset_index()\n",
    "    \n",
    "    season_outcome = pd.DataFrame({\n",
    "                        'team': season_stats.team,\n",
    "                        'league': season_stats.league,\n",
    "                        '90s': season_stats['Playing Time']['90s'],\n",
    "                        'G-PK': season_stats['Performance']['G-PK'],\n",
    "                        'G-PK_against': opp_stats['Performance']['G-PK'],\n",
    "                        'NP-GD': season_stats['Performance']['G-PK'] - opp_stats['Performance']['G-PK']\n",
    "                    })\n",
    "\n",
    "    season_outcome = season_outcome.sort_values('team').reset_index(drop = True)\n",
    "    ratings = pd.read_csv(f'data/mbappe/ratings_{seasons[i]}.csv')\n",
    "    \n",
    "    player_stats = fbref.read_player_season_stats(\"standard\").reset_index()\n",
    "    player_stats.columns = [''.join(c) for c in player_stats.columns]\n",
    "    \n",
    "    ratings = ratings.rename({'Player': 'player', 'Born': 'born'}, axis = 1)\n",
    "    player_stats = player_stats.merge(ratings, how = 'left', on = ['player', 'born'])\n",
    "    \n",
    "    player_stats['MBAPPE'] = player_stats['MBAPPE'].fillna(0)\n",
    "    \n",
    "    player_stats['total_added'] = player_stats['MBAPPE'] * player_stats['Playing Time90s']\n",
    "    \n",
    "    season_outcome['retrodictive_GD'] = player_stats.groupby('team', as_index = False).sum()['total_added']\n",
    "    \n",
    "    season_outcome['NP-GD'] = season_outcome['NP-GD'] / season_outcome['90s']\n",
    "            \n",
    "    season_outcome['G-PK'] = season_outcome['G-PK'] / season_outcome['90s']\n",
    "    season_outcome['G-PK_against'] = season_outcome['G-PK_against'] / season_outcome['90s']\n",
    "\n",
    "    season_outcome['retrodictive_GD'] = season_outcome['retrodictive_GD'] / season_outcome['90s']\n",
    "    season_outcome['season'] = season\n",
    "    \n",
    "    mbappe_results = pd.concat([mbappe_results, season_outcome], axis = 0)\n",
    "\n",
    "mbappe_results = pd.get_dummies(mbappe_results, columns=['league'], drop_first=True, dtype = float)\n",
    "\n",
    "X = np.asarray(mbappe_results[['retrodictive_GD'] + list(mbappe_results.columns[mbappe_results.columns.str.startswith('league_')])])\n",
    "y = np.asarray(mbappe_results['NP-GD'])\n",
    "\n",
    "X = sm.add_constant(X)\n",
    "X = X.astype(float)\n",
    "\n",
    "kf = KFold(n_splits=5, shuffle=True, random_state=29)\n",
    "rmse_values = []\n",
    "\n",
    "for train_index, test_index in kf.split(X):\n",
    "    X_train, X_test = X[train_index], X[test_index]\n",
    "    y_train, y_test = y[train_index], y[test_index]\n",
    "    \n",
    "    model = sm.OLS(y_train, X_train).fit()\n",
    "    \n",
    "    y_pred = model.predict(X_test)\n",
    "    \n",
    "    residuals = y_test - y_pred\n",
    "    \n",
    "    rmse = np.sqrt(np.mean(residuals**2))\n",
    "    rmse_values.append(rmse)\n",
    "\n",
    "mbappe_rmse = np.mean(rmse_values)\n",
    "print(\"Average RMSE across 5-fold cross-validation:\", mbappe_rmse)"
   ]
  },
  {
   "cell_type": "markdown",
   "id": "a2b2a398-cf28-41d0-944a-f0e23aa75acc",
   "metadata": {},
   "source": [
    "------\n",
    "## Final Results"
   ]
  },
  {
   "cell_type": "code",
   "execution_count": 9,
   "id": "c0b9e333-de0f-4a7a-96c5-c1d90b396087",
   "metadata": {},
   "outputs": [],
   "source": [
    "results = pd.DataFrame({\n",
    "    \"Metric\": [\"FIFA Ratings\", \"FotMob\", \"SofaScore\", \"VAEP\", \"Atomic VAEP\", \"MBAPPE\"],\n",
    "    \"RMSE\": [fifa_rmse, fotmob_rmse, sofascore_rmse, vaep_rmse, atomic_vaep_rmse, mbappe_rmse]\n",
    "})\n",
    "\n",
    "results = results.sort_values(\"RMSE\", ascending = True)"
   ]
  },
  {
   "cell_type": "code",
   "execution_count": 10,
   "id": "8bff173b-c99c-4ae6-9990-006084d918b3",
   "metadata": {},
   "outputs": [
    {
     "data": {
      "text/html": [
       "<div>\n",
       "<style scoped>\n",
       "    .dataframe tbody tr th:only-of-type {\n",
       "        vertical-align: middle;\n",
       "    }\n",
       "\n",
       "    .dataframe tbody tr th {\n",
       "        vertical-align: top;\n",
       "    }\n",
       "\n",
       "    .dataframe thead th {\n",
       "        text-align: right;\n",
       "    }\n",
       "</style>\n",
       "<table border=\"1\" class=\"dataframe\">\n",
       "  <thead>\n",
       "    <tr style=\"text-align: right;\">\n",
       "      <th></th>\n",
       "      <th>Metric</th>\n",
       "      <th>RMSE</th>\n",
       "    </tr>\n",
       "  </thead>\n",
       "  <tbody>\n",
       "    <tr>\n",
       "      <th>5</th>\n",
       "      <td>MBAPPE</td>\n",
       "      <td>0.488148</td>\n",
       "    </tr>\n",
       "    <tr>\n",
       "      <th>3</th>\n",
       "      <td>VAEP</td>\n",
       "      <td>0.518824</td>\n",
       "    </tr>\n",
       "    <tr>\n",
       "      <th>4</th>\n",
       "      <td>Atomic VAEP</td>\n",
       "      <td>0.556837</td>\n",
       "    </tr>\n",
       "    <tr>\n",
       "      <th>0</th>\n",
       "      <td>FIFA Ratings</td>\n",
       "      <td>0.617509</td>\n",
       "    </tr>\n",
       "    <tr>\n",
       "      <th>2</th>\n",
       "      <td>SofaScore</td>\n",
       "      <td>0.639715</td>\n",
       "    </tr>\n",
       "    <tr>\n",
       "      <th>1</th>\n",
       "      <td>FotMob</td>\n",
       "      <td>0.640015</td>\n",
       "    </tr>\n",
       "  </tbody>\n",
       "</table>\n",
       "</div>"
      ],
      "text/plain": [
       "         Metric      RMSE\n",
       "5        MBAPPE  0.488148\n",
       "3          VAEP  0.518824\n",
       "4   Atomic VAEP  0.556837\n",
       "0  FIFA Ratings  0.617509\n",
       "2     SofaScore  0.639715\n",
       "1        FotMob  0.640015"
      ]
     },
     "execution_count": 10,
     "metadata": {},
     "output_type": "execute_result"
    }
   ],
   "source": [
    "results"
   ]
  },
  {
   "cell_type": "code",
   "execution_count": null,
   "id": "56cdcf5c-074d-486c-af2c-cef89ef23237",
   "metadata": {},
   "outputs": [],
   "source": []
  }
 ],
 "metadata": {
  "kernelspec": {
   "display_name": "Python 3 (ipykernel)",
   "language": "python",
   "name": "python3"
  },
  "language_info": {
   "codemirror_mode": {
    "name": "ipython",
    "version": 3
   },
   "file_extension": ".py",
   "mimetype": "text/x-python",
   "name": "python",
   "nbconvert_exporter": "python",
   "pygments_lexer": "ipython3",
   "version": "3.11.5"
  }
 },
 "nbformat": 4,
 "nbformat_minor": 5
}
